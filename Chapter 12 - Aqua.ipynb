{
 "cells": [
  {
   "cell_type": "code",
   "execution_count": 1,
   "metadata": {},
   "outputs": [
    {
     "name": "stderr",
     "output_type": "stream",
     "text": [
      "c:\\Users\\duyni\\Documents\\Learn-Quantum-Computing-with-Python-and-IBM-Quantum-Experience\\quantum_env\\lib\\site-packages\\qiskit\\providers\\ibmq\\ibmqfactory.py:192: UserWarning: Timestamps in IBMQ backend properties, jobs, and job results are all now in local time instead of UTC.\n",
      "  warnings.warn('Timestamps in IBMQ backend properties, jobs, and job results '\n"
     ]
    }
   ],
   "source": [
    "# p43 (p64 PDF) \n",
    "\n",
    "%matplotlib inline\n",
    "# Importing standard Qiskit libraries and configuring account\n",
    "from qiskit import QuantumCircuit, execute, Aer, IBMQ\n",
    "from qiskit.compiler import transpile, assemble\n",
    "from qiskit.tools.jupyter import *\n",
    "from qiskit.visualization import *\n",
    "# Loading your IBM Q account(s)\n",
    "provider = IBMQ.load_account()"
   ]
  },
  {
   "cell_type": "markdown",
   "metadata": {},
   "source": [
    "# Chapter 12 - Qiskit Aqua"
   ]
  },
  {
   "cell_type": "code",
   "execution_count": 2,
   "metadata": {},
   "outputs": [],
   "source": [
    "# p338 (p359 PDF) \n",
    "\n",
    "from qiskit.aqua.components.initial_states import Custom\n",
    "init_state_0 = Custom(num_qubits=3, state='zero')\n",
    "init_state_uniform = Custom(num_qubits=3, state='uniform')\n",
    "init_state_random = Custom(num_qubits=3, state='random')\n"
   ]
  },
  {
   "cell_type": "code",
   "execution_count": 3,
   "metadata": {},
   "outputs": [
    {
     "data": {
      "text/html": [
       "<pre style=\"word-wrap: normal;white-space: pre;background: #fff0;line-height: 1.1;font-family: &quot;Courier New&quot;,Courier,monospace\">     \n",
       "q_0: \n",
       "     \n",
       "q_1: \n",
       "     \n",
       "q_2: \n",
       "     </pre>"
      ],
      "text/plain": [
       "     \n",
       "q_0: \n",
       "     \n",
       "q_1: \n",
       "     \n",
       "q_2: \n",
       "     "
      ]
     },
     "execution_count": 3,
     "metadata": {},
     "output_type": "execute_result"
    }
   ],
   "source": [
    "# p338 (p359 PDF) \n",
    "\n",
    "qc0 = init_state_0.construct_circuit(mode='circuit')\n",
    "qc0.draw()\n"
   ]
  },
  {
   "cell_type": "code",
   "execution_count": 4,
   "metadata": {},
   "outputs": [
    {
     "data": {
      "text/html": [
       "<pre style=\"word-wrap: normal;white-space: pre;background: #fff0;line-height: 1.1;font-family: &quot;Courier New&quot;,Courier,monospace\">     ┌──────────┐\n",
       "q_0: ┤ U2(0,pi) ├\n",
       "     ├──────────┤\n",
       "q_1: ┤ U2(0,pi) ├\n",
       "     ├──────────┤\n",
       "q_2: ┤ U2(0,pi) ├\n",
       "     └──────────┘</pre>"
      ],
      "text/plain": [
       "     ┌──────────┐\n",
       "q_0: ┤ U2(0,pi) ├\n",
       "     ├──────────┤\n",
       "q_1: ┤ U2(0,pi) ├\n",
       "     ├──────────┤\n",
       "q_2: ┤ U2(0,pi) ├\n",
       "     └──────────┘"
      ]
     },
     "execution_count": 4,
     "metadata": {},
     "output_type": "execute_result"
    }
   ],
   "source": [
    "# p338 (p359 PDF) \n",
    "\n",
    "qc1 = init_state_uniform.construct_circuit(mode='circuit')\n",
    "qc1.draw()\n"
   ]
  },
  {
   "cell_type": "code",
   "execution_count": 5,
   "metadata": {},
   "outputs": [
    {
     "data": {
      "text/html": [
       "<pre style=\"word-wrap: normal;white-space: pre;background: #fff0;line-height: 1.1;font-family: &quot;Courier New&quot;,Courier,monospace\">     ┌────────────────┐                               ┌───┐┌─────────────────┐»\n",
       "q_0: ┤ U3(1.6927,0,0) ├───────────────────────────────┤ X ├┤ U3(-0.1817,0,0) ├»\n",
       "     ├────────────────┤┌───┐┌───────────────────┐┌───┐└─┬─┘└─────────────────┘»\n",
       "q_1: ┤ U3(1.3855,0,0) ├┤ X ├┤ U3(-0.090911,0,0) ├┤ X ├──■─────────────────────»\n",
       "     ├────────────────┤└─┬─┘└───────────────────┘└─┬─┘                        »\n",
       "q_2: ┤ U3(1.6424,0,0) ├──■─────────────────────────■──────────────────────────»\n",
       "     └────────────────┘                                                       »\n",
       "«     ┌───┐┌─────────────────┐┌───┐┌─────────────────┐┌───┐\n",
       "«q_0: ┤ X ├┤ U3(0.91183,0,0) ├┤ X ├┤ U3(0.17076,0,0) ├┤ X ├\n",
       "«     └─┬─┘└─────────────────┘└─┬─┘└─────────────────┘└─┬─┘\n",
       "«q_1: ──┼───────────────────────■───────────────────────┼──\n",
       "«       │                                               │  \n",
       "«q_2: ──■───────────────────────────────────────────────■──\n",
       "«                                                          </pre>"
      ],
      "text/plain": [
       "     ┌────────────────┐                               ┌───┐┌─────────────────┐»\n",
       "q_0: ┤ U3(1.6927,0,0) ├───────────────────────────────┤ X ├┤ U3(-0.1817,0,0) ├»\n",
       "     ├────────────────┤┌───┐┌───────────────────┐┌───┐└─┬─┘└─────────────────┘»\n",
       "q_1: ┤ U3(1.3855,0,0) ├┤ X ├┤ U3(-0.090911,0,0) ├┤ X ├──■─────────────────────»\n",
       "     ├────────────────┤└─┬─┘└───────────────────┘└─┬─┘                        »\n",
       "q_2: ┤ U3(1.6424,0,0) ├──■─────────────────────────■──────────────────────────»\n",
       "     └────────────────┘                                                       »\n",
       "«     ┌───┐┌─────────────────┐┌───┐┌─────────────────┐┌───┐\n",
       "«q_0: ┤ X ├┤ U3(0.91183,0,0) ├┤ X ├┤ U3(0.17076,0,0) ├┤ X ├\n",
       "«     └─┬─┘└─────────────────┘└─┬─┘└─────────────────┘└─┬─┘\n",
       "«q_1: ──┼───────────────────────■───────────────────────┼──\n",
       "«       │                                               │  \n",
       "«q_2: ──■───────────────────────────────────────────────■──\n",
       "«                                                          "
      ]
     },
     "execution_count": 5,
     "metadata": {},
     "output_type": "execute_result"
    }
   ],
   "source": [
    "# p339 (p360 PDF) \n",
    "\n",
    "qc2 = init_state_random.construct_circuit(mode='circuit')\n",
    "qc2.draw()\n"
   ]
  },
  {
   "cell_type": "code",
   "execution_count": 6,
   "metadata": {},
   "outputs": [
    {
     "data": {
      "text/html": [
       "<pre style=\"word-wrap: normal;white-space: pre;background: #fff0;line-height: 1.1;font-family: &quot;Courier New&quot;,Courier,monospace\">     ┌──────────┐     \n",
       "q_0: ┤ U2(0,pi) ├──■──\n",
       "     └──────────┘┌─┴─┐\n",
       "q_1: ────────────┤ X ├\n",
       "                 └───┘</pre>"
      ],
      "text/plain": [
       "     ┌──────────┐     \n",
       "q_0: ┤ U2(0,pi) ├──■──\n",
       "     └──────────┘┌─┴─┐\n",
       "q_1: ────────────┤ X ├\n",
       "                 └───┘"
      ]
     },
     "execution_count": 6,
     "metadata": {},
     "output_type": "execute_result"
    }
   ],
   "source": [
    "# p339 (p360 PDF) \n",
    "\n",
    "# Create the quantum circuit\n",
    "num_qubits = 2\n",
    "qc = QuantumCircuit(num_qubits)\n",
    "qc.h(0)\n",
    "qc.cx(0,1)\n",
    "# Construct the Custom class based on the built quantum circuit\n",
    "q_component = Custom(num_qubits=num_qubits, circuit=qc)\n",
    "q_component.construct_circuit().draw()\n"
   ]
  },
  {
   "cell_type": "code",
   "execution_count": 7,
   "metadata": {},
   "outputs": [
    {
     "ename": "NameError",
     "evalue": "Pytorch is not installed. For installation instructions see https://pytorch.org/get-started/locally/",
     "output_type": "error",
     "traceback": [
      "\u001b[1;31m---------------------------------------------------------------------------\u001b[0m",
      "\u001b[1;31mNameError\u001b[0m                                 Traceback (most recent call last)",
      "\u001b[1;32m~\\AppData\\Local\\Temp\\ipykernel_18584\\1450914674.py\u001b[0m in \u001b[0;36m<module>\u001b[1;34m\u001b[0m\n\u001b[0;32m      2\u001b[0m \u001b[1;32mfrom\u001b[0m \u001b[0mqiskit\u001b[0m\u001b[1;33m.\u001b[0m\u001b[0maqua\u001b[0m\u001b[1;33m.\u001b[0m\u001b[0mcomponents\u001b[0m\u001b[1;33m.\u001b[0m\u001b[0mneural_networks\u001b[0m \u001b[1;32mimport\u001b[0m \u001b[0mPyTorchDiscriminator\u001b[0m\u001b[1;33m\u001b[0m\u001b[1;33m\u001b[0m\u001b[0m\n\u001b[0;32m      3\u001b[0m \u001b[1;31m# Set the number data input and output dimension to 2.\u001b[0m\u001b[1;33m\u001b[0m\u001b[1;33m\u001b[0m\u001b[1;33m\u001b[0m\u001b[0m\n\u001b[1;32m----> 4\u001b[1;33m \u001b[0mpy_torch_disc\u001b[0m \u001b[1;33m=\u001b[0m \u001b[0mPyTorchDiscriminator\u001b[0m\u001b[1;33m(\u001b[0m\u001b[0mn_features\u001b[0m \u001b[1;33m=\u001b[0m \u001b[1;36m2\u001b[0m\u001b[1;33m,\u001b[0m \u001b[0mn_out\u001b[0m\u001b[1;33m=\u001b[0m\u001b[1;36m2\u001b[0m\u001b[1;33m)\u001b[0m\u001b[1;33m\u001b[0m\u001b[1;33m\u001b[0m\u001b[0m\n\u001b[0m",
      "\u001b[1;32mc:\\Users\\duyni\\Documents\\Learn-Quantum-Computing-with-Python-and-IBM-Quantum-Experience\\quantum_env\\lib\\site-packages\\qiskit\\aqua\\components\\neural_networks\\pytorch_discriminator.py\u001b[0m in \u001b[0;36m__init__\u001b[1;34m(self, n_features, n_out)\u001b[0m\n\u001b[0;32m     52\u001b[0m         \u001b[0msuper\u001b[0m\u001b[1;33m(\u001b[0m\u001b[1;33m)\u001b[0m\u001b[1;33m.\u001b[0m\u001b[0m__init__\u001b[0m\u001b[1;33m(\u001b[0m\u001b[1;33m)\u001b[0m\u001b[1;33m\u001b[0m\u001b[1;33m\u001b[0m\u001b[0m\n\u001b[0;32m     53\u001b[0m         \u001b[1;32mif\u001b[0m \u001b[1;32mnot\u001b[0m \u001b[0m_HAS_TORCH\u001b[0m\u001b[1;33m:\u001b[0m\u001b[1;33m\u001b[0m\u001b[1;33m\u001b[0m\u001b[0m\n\u001b[1;32m---> 54\u001b[1;33m             raise NameError('Pytorch is not installed. For installation instructions see '\n\u001b[0m\u001b[0;32m     55\u001b[0m                             'https://pytorch.org/get-started/locally/')\n\u001b[0;32m     56\u001b[0m \u001b[1;33m\u001b[0m\u001b[0m\n",
      "\u001b[1;31mNameError\u001b[0m: Pytorch is not installed. For installation instructions see https://pytorch.org/get-started/locally/"
     ]
    }
   ],
   "source": [
    "# p341 (p362 PDF) \n",
    "\n",
    "# Import and create the PyTorchDiscriminator class\n",
    "from qiskit.aqua.components.neural_networks import PyTorchDiscriminator\n",
    "# Set the number data input and output dimension to 2.\n",
    "py_torch_disc = PyTorchDiscriminator(n_features = 2, n_out=2)\n"
   ]
  },
  {
   "cell_type": "code",
   "execution_count": null,
   "metadata": {},
   "outputs": [],
   "source": [
    "# p341 (p362 PDF) \n",
    "\n",
    "# Load the discriminator model, implements the torch.load(dir) \n",
    "discriminator_model = '/discriminator_model_directory'\n",
    "py_torch_disc.load_model(discriminator_model)\n"
   ]
  },
  {
   "cell_type": "code",
   "execution_count": null,
   "metadata": {},
   "outputs": [],
   "source": [
    "# p341 (p362 PDF) \n",
    "\n",
    "# Parameters are defined in the Qiskit API as follows: \n",
    "###\n",
    "# data (tuple) – real_batch: torch.Tensor, Training data batch. generated_batch: numpy array, Generated data batch.\n",
    "# weights (tuple) – real problem, generated problem\n",
    "# penalty (bool) – Indicate whether or not penalty function is applied to the loss function.\n",
    "# quantum_instance (QuantumInstance) – Quantum Instance (depreciated)\n",
    "# shots (int) – Number of shots for hardware or qasm execution. Not used for classical network (only quantum ones)\n",
    "###\n",
    "result_dict = PyTorchDiscriminator.train(data, weights, penalty, quantum_instance=quantum_instance, shots=None)\n"
   ]
  },
  {
   "cell_type": "code",
   "execution_count": 8,
   "metadata": {},
   "outputs": [
    {
     "data": {
      "text/plain": [
       "<qiskit.circuit.instructionset.InstructionSet at 0x271695d2cc8>"
      ]
     },
     "execution_count": 8,
     "metadata": {},
     "output_type": "execute_result"
    }
   ],
   "source": [
    "# p343 (p364 PDF) \n",
    "\n",
    "# Import the CircuitStateFn class\n",
    "from qiskit.aqua.operators.state_fns import CircuitStateFn\n",
    "# Create the quantum circuit\n",
    "qc = QuantumCircuit(2)\n",
    "qc.h(0)\n",
    "qc.cx(0,1)\n"
   ]
  },
  {
   "cell_type": "code",
   "execution_count": 9,
   "metadata": {},
   "outputs": [
    {
     "name": "stdout",
     "output_type": "stream",
     "text": [
      "CircuitStateFn(\n",
      "     ┌───┐     \n",
      "q_0: ┤ H ├──■──\n",
      "     └───┘┌─┴─┐\n",
      "q_1: ─────┤ X ├\n",
      "          └───┘\n",
      ")\n"
     ]
    }
   ],
   "source": [
    "# p343 (p364 PDF) \n",
    "\n",
    "# Create the CircuitStateFn class with the quantum circuit\n",
    "csf = CircuitStateFn(primitive=qc, coeff=1, is_measurement=False)\n",
    "print(csf)\n"
   ]
  },
  {
   "cell_type": "code",
   "execution_count": 10,
   "metadata": {},
   "outputs": [
    {
     "name": "stdout",
     "output_type": "stream",
     "text": [
      "True\n"
     ]
    }
   ],
   "source": [
    "# p344 (p365 PDF) \n",
    "\n",
    "# Create a second quantum circuit with same width and operators\n",
    "qc2 = QuantumCircuit(2)\n",
    "qc2.h(0)\n",
    "qc2.cx(0,1)\n",
    "\n",
    "# Create the second circuit state function\n",
    "csf2 = CircuitStateFn(primitive=qc2, coeff=1, is_measurement=False)\n",
    "\n",
    "# Compare both circuit state functions using the equals operator\n",
    "print(csf.equals(csf2))\n"
   ]
  },
  {
   "cell_type": "code",
   "execution_count": 11,
   "metadata": {},
   "outputs": [
    {
     "name": "stdout",
     "output_type": "stream",
     "text": [
      "CircuitStateFn(\n",
      "     ┌───┐     \n",
      "q_0: ┤ H ├──■──\n",
      "     └───┘┌─┴─┐\n",
      "q_1: ─────┤ X ├\n",
      "          └───┘\n",
      ") * 2\n"
     ]
    }
   ],
   "source": [
    "# p344 (p365 PDF) \n",
    "\n",
    "# Add the two circuit state functions together\n",
    "added_csf = csf.add(csf2)\n",
    "print(added_csf)\n"
   ]
  },
  {
   "cell_type": "code",
   "execution_count": 12,
   "metadata": {},
   "outputs": [
    {
     "name": "stdout",
     "output_type": "stream",
     "text": [
      "SummedOp([\n",
      "  CircuitStateFn(\n",
      "       ┌───┐     \n",
      "  q_0: ┤ H ├──■──\n",
      "       └───┘┌─┴─┐\n",
      "  q_1: ─────┤ X ├\n",
      "            └───┘\n",
      "  ) * 2,\n",
      "  CircuitStateFn(\n",
      "       ┌───┐┌───┐\n",
      "  q_0: ┤ H ├┤ X ├\n",
      "       └───┘└─┬─┘\n",
      "  q_1: ───────■──\n",
      "                 \n",
      "  )\n",
      "])\n"
     ]
    }
   ],
   "source": [
    "# p345 (p366 PDF) \n",
    "\n",
    "# Create a quantum circuit\n",
    "qc3 = QuantumCircuit(2) \n",
    "qc3.h(0)\n",
    "qc3.cx(1,0) \n",
    "# Create a circuit state function from the quantum circuit\n",
    "csf3 = CircuitStateFn(primitive=qc3, coeff=1, is_measurement=False)\n",
    "print(added_csf.add(csf3))\n"
   ]
  },
  {
   "cell_type": "code",
   "execution_count": 13,
   "metadata": {},
   "outputs": [
    {
     "name": "stdout",
     "output_type": "stream",
     "text": [
      "Binary result:  110.\n"
     ]
    }
   ],
   "source": [
    "# p346 (p367 PDF) \n",
    "\n",
    "# Import the utils module\n",
    "from qiskit.aqua import utils \n",
    "# convert the number 6 from decimal to binary\n",
    "binary_value = utils.decimal_to_binary(6, max_num_digits=0)\n",
    "print('Binary result: ', binary_value)\n"
   ]
  },
  {
   "cell_type": "code",
   "execution_count": 14,
   "metadata": {},
   "outputs": [
    {
     "name": "stdout",
     "output_type": "stream",
     "text": [
      "Random Unitary result: \n",
      " [[ 0.46266594+0.09818176j -0.3819174 +0.73700842j  0.00639599+0.29532585j]\n",
      " [ 0.30342446+0.56900067j  0.53039264-0.15611927j -0.32215041+0.41797292j]\n",
      " [ 0.36060718+0.48003631j  0.07129681+0.01359712j  0.42201603-0.67539763j]]\n"
     ]
    }
   ],
   "source": [
    "# p346 (p367 PDF) \n",
    "\n",
    "#Random Unitary matrix\n",
    "random_unitary = utils.random_unitary(N=3)\n",
    "print('Random Unitary result: \\n', random_unitary)\n"
   ]
  },
  {
   "cell_type": "code",
   "execution_count": 15,
   "metadata": {},
   "outputs": [],
   "source": [
    "# p347 (p368 PDF) \n",
    "\n",
    "# Create an array of random quantum circuits\n",
    "from qiskit.circuit.random import random_circuit\n",
    "quantum_circuits = []\n",
    "# Append a group of random circuits\n",
    "for x in range(2):\n",
    "    quantum_circuits.append(random_circuit(3, 5, measure=True))\n"
   ]
  },
  {
   "cell_type": "code",
   "execution_count": 16,
   "metadata": {},
   "outputs": [
    {
     "name": "stdout",
     "output_type": "stream",
     "text": [
      "Submitting 2 circuits.\n",
      "============================================================================\n",
      "0-th circuit: 3 qubits, 3 classical bits and 15 operations with depth 6\n",
      "op_counts: OrderedDict([('measure', 3), ('rx', 2), ('cu1', 1), ('sdg', 1), ('u2', 1), ('ry', 1), ('ccx', 1), ('u1', 1), ('tdg', 1), ('rz', 1), ('id', 1), ('h', 1)])\n",
      "1-th circuit: 3 qubits, 3 classical bits and 13 operations with depth 6\n",
      "op_counts: OrderedDict([('measure', 3), ('z', 2), ('cu1', 1), ('sdg', 1), ('ccx', 1), ('cz', 1), ('cy', 1), ('y', 1), ('u1', 1), ('ry', 1)])\n",
      "Average: 3.00 qubits, 3.00 classical bits and 14.00 operations with depth 6.00\n",
      "============================================================================\n",
      "\n"
     ]
    }
   ],
   "source": [
    "# p347 (p368 PDF) \n",
    "\n",
    "# Obtain and print a summary of all the quantum circuits\n",
    "circuits_summary = utils.summarize_circuits(quantum_circuits)\n",
    "print(circuits_summary)\n"
   ]
  },
  {
   "cell_type": "code",
   "execution_count": 17,
   "metadata": {},
   "outputs": [
    {
     "name": "stdout",
     "output_type": "stream",
     "text": [
      "Full coupling map:  [[0, 1], [0, 2], [0, 3], [0, 4], [1, 2], [1, 3], [1, 4], [2, 3], [2, 4], [3, 4]]\n"
     ]
    }
   ],
   "source": [
    "# p348 (p369 PDF) \n",
    "\n",
    "# Fully entangled coupling map\n",
    "full_coupling_map = utils.get_entangler_map(map_type=\"full\", num_qubits=5)\n",
    "print('Full coupling map: ', full_coupling_map) \n"
   ]
  },
  {
   "cell_type": "code",
   "execution_count": 18,
   "metadata": {},
   "outputs": [
    {
     "name": "stdout",
     "output_type": "stream",
     "text": [
      "Full coupling map:  [[0, 1], [1, 2], [2, 3], [3, 4]]\n"
     ]
    }
   ],
   "source": [
    "# p348 (p369 PDF) \n",
    "\n",
    "# Linearly entangled coupling map\n",
    "lin_coupling_map = utils.get_entangler_map(map_type=\"linear\", num_qubits=5)\n",
    "print('Full coupling map: ', lin_coupling_map)\n"
   ]
  },
  {
   "cell_type": "code",
   "execution_count": 19,
   "metadata": {},
   "outputs": [
    {
     "name": "stdout",
     "output_type": "stream",
     "text": [
      "[[0, 1], [0, 2], [0, 3], [0, 4], [1, 2], [1, 3], [1, 4], [2, 3], [2, 4], [3, 4]]\n"
     ]
    }
   ],
   "source": [
    "# p348 (p369 PDF) \n",
    "\n",
    "# Validate entangled coupling maps\n",
    "result = utils.validate_entangler_map(entangler_map=full_coupling_map, num_qubits=5, allow_double_entanglement=True)\n",
    "print(result)\n"
   ]
  },
  {
   "cell_type": "code",
   "execution_count": 20,
   "metadata": {},
   "outputs": [
    {
     "name": "stdout",
     "output_type": "stream",
     "text": [
      "[[ 8.66025404e-01  3.92523115e-17]\n",
      " [-8.66025404e-01  3.92523115e-17]]\n"
     ]
    }
   ],
   "source": [
    "# p349 (p370 PDF) \n",
    "\n",
    "# Import NumPy to create the array\n",
    "import numpy as np\n",
    "\n",
    "# Generate a 2x3 (NxD) array\n",
    "dim_map = np.array( [[ 0,1,0], [ 1,0,1]])\n",
    "# Reduce the D from 3 to 2, resulting in a 2x2 dimensional array\n",
    "reduced_dim = utils.reduce_dim_to_via_pca(x=dim_map, dim=2)\n",
    "print(reduced_dim)\n"
   ]
  },
  {
   "cell_type": "code",
   "execution_count": 21,
   "metadata": {},
   "outputs": [],
   "source": [
    "# p351 (p372 PDF) \n",
    "\n",
    "# Import the necessary modules and classes\n",
    "from qiskit import BasicAer\n",
    "from qiskit.aqua import QuantumInstance\n",
    "from qiskit.aqua.algorithms import Grover, DeutschJozsa, BernsteinVazirani, Simon\n",
    "from qiskit.aqua.components.oracles import LogicalExpressionOracle, TruthTableOracle, CustomCircuitOracle\n",
    "\n",
    "# State the SAT problem into a logical expression\n",
    "# A = Sophia, B = Angelina, C = Leo, D = Lex\n",
    "expression = '((A ^ B) & (C & D) & ~(A & C))'\n"
   ]
  },
  {
   "cell_type": "code",
   "execution_count": 22,
   "metadata": {},
   "outputs": [],
   "source": [
    "# p352 (p373 PDF) \n",
    "\n",
    "# Create an Oracle based on the Logical Expression\n",
    "oracle = LogicalExpressionOracle(expression)\n"
   ]
  },
  {
   "cell_type": "code",
   "execution_count": 23,
   "metadata": {},
   "outputs": [
    {
     "data": {
      "text/html": [
       "<pre style=\"word-wrap: normal;white-space: pre;background: #fff0;line-height: 1.1;font-family: &quot;Courier New&quot;,Courier,monospace\">     ┌───┐      ┌───┐\n",
       "v_0: ┤ X ├──■───┤ X ├\n",
       "     └───┘  │   └───┘\n",
       "v_1: ───────■────────\n",
       "            │        \n",
       "v_2: ───────■────────\n",
       "            │        \n",
       "v_3: ───────■────────\n",
       "          ┌─┴──┐     \n",
       "o_0: ─────┤0   ├─────\n",
       "          │    │     \n",
       "a_0: ─────┤1 X ├─────\n",
       "          │    │     \n",
       "a_1: ─────┤2   ├─────\n",
       "          └────┘     </pre>"
      ],
      "text/plain": [
       "     ┌───┐      ┌───┐\n",
       "v_0: ┤ X ├──■───┤ X ├\n",
       "     └───┘  │   └───┘\n",
       "v_1: ───────■────────\n",
       "            │        \n",
       "v_2: ───────■────────\n",
       "            │        \n",
       "v_3: ───────■────────\n",
       "          ┌─┴──┐     \n",
       "o_0: ─────┤0   ├─────\n",
       "          │    │     \n",
       "a_0: ─────┤1 X ├─────\n",
       "          │    │     \n",
       "a_1: ─────┤2   ├─────\n",
       "          └────┘     "
      ]
     },
     "execution_count": 23,
     "metadata": {},
     "output_type": "execute_result"
    }
   ],
   "source": [
    "# p352 (p373 PDF)\n",
    "\n",
    "# Construct the circuit from the oracle\n",
    "quantum_circuit = oracle.construct_circuit()\n",
    "quantum_circuit.draw()\n"
   ]
  },
  {
   "cell_type": "code",
   "execution_count": 24,
   "metadata": {},
   "outputs": [],
   "source": [
    "# p353 (p374 PDF)\n",
    "\n",
    "# Generate a quantum instance from a simulator\n",
    "quantum_instance = QuantumInstance(BasicAer.get_backend('qasm_simulator'), shots=1024)\n"
   ]
  },
  {
   "cell_type": "code",
   "execution_count": 25,
   "metadata": {},
   "outputs": [],
   "source": [
    "# p353 (p374 PDF)\n",
    "\n",
    "# Create the Grover algorithm with the Logical Expression Oracle\n",
    "grover = Grover(oracle)\n"
   ]
  },
  {
   "cell_type": "code",
   "execution_count": 26,
   "metadata": {},
   "outputs": [
    {
     "name": "stdout",
     "output_type": "stream",
     "text": [
      "Top result: 1110\n"
     ]
    },
    {
     "data": {
      "image/png": "[encoded data removed]",
      "text/plain": [
       "<Figure size 504x360 with 1 Axes>"
      ]
     },
     "execution_count": 26,
     "metadata": {},
     "output_type": "execute_result"
    },
    {
     "data": {
      "image/png": "[encoded data removed]",
      "text/plain": [
       "<Figure size 504x360 with 1 Axes>"
      ]
     },
     "metadata": {
      "needs_background": "light"
     },
     "output_type": "display_data"
    }
   ],
   "source": [
    "# p353 (p374 PDF)\n",
    "\n",
    "# Run the Grover algorithm \n",
    "result = grover.run(quantum_instance)\n",
    "\n",
    "# Print the top measured result\n",
    "print('Top result:', result['top_measurement'])\n",
    "# Plot all measured results\n",
    "plot_histogram(result['measurement'])\n"
   ]
  },
  {
   "cell_type": "code",
   "execution_count": 27,
   "metadata": {},
   "outputs": [],
   "source": [
    "# p355 (p376 PDF)\n",
    "\n",
    "# Create the Truth Table expression for constant\n",
    "truth_table = '1111'\n",
    "\n",
    "# Create the Truth Table Oracle from the expression\n",
    "constant_oracle = TruthTableOracle(truth_table)\n"
   ]
  },
  {
   "cell_type": "code",
   "execution_count": 28,
   "metadata": {},
   "outputs": [
    {
     "data": {
      "text/html": [
       "<pre style=\"word-wrap: normal;white-space: pre;background: #fff0;line-height: 1.1;font-family: &quot;Courier New&quot;,Courier,monospace\">     ┌───┐      ░                ┌───┐     ┌───┐┌───┐     ┌───┐┌───┐ ░ ┌─┐   \n",
       "v_0: ┤ H ├──────░───■─────────■──┤ X ├──■──┤ X ├┤ X ├──■──┤ X ├┤ H ├─░─┤M├───\n",
       "     ├───┤      ░   │  ┌───┐  │  ├───┤  │  ├───┤└───┘  │  ├───┤├───┤ ░ └╥┘┌─┐\n",
       "v_1: ┤ H ├──────░───■──┤ X ├──■──┤ X ├──■──┤ X ├───────■──┤ X ├┤ H ├─░──╫─┤M├\n",
       "     ├───┤┌───┐ ░ ┌─┴─┐└───┘┌─┴─┐└───┘┌─┴─┐└───┘     ┌─┴─┐└───┘└───┘ ░  ║ └╥┘\n",
       "o_0: ┤ X ├┤ H ├─░─┤ X ├─────┤ X ├─────┤ X ├──────────┤ X ├───────────░──╫──╫─\n",
       "     └───┘└───┘ ░ └───┘     └───┘     └───┘          └───┘           ░  ║  ║ \n",
       "m: 2/═══════════════════════════════════════════════════════════════════╩══╩═\n",
       "                                                                        0  1 </pre>"
      ],
      "text/plain": [
       "     ┌───┐      ░                ┌───┐     ┌───┐┌───┐     ┌───┐┌───┐ ░ ┌─┐   \n",
       "v_0: ┤ H ├──────░───■─────────■──┤ X ├──■──┤ X ├┤ X ├──■──┤ X ├┤ H ├─░─┤M├───\n",
       "     ├───┤      ░   │  ┌───┐  │  ├───┤  │  ├───┤└───┘  │  ├───┤├───┤ ░ └╥┘┌─┐\n",
       "v_1: ┤ H ├──────░───■──┤ X ├──■──┤ X ├──■──┤ X ├───────■──┤ X ├┤ H ├─░──╫─┤M├\n",
       "     ├───┤┌───┐ ░ ┌─┴─┐└───┘┌─┴─┐└───┘┌─┴─┐└───┘     ┌─┴─┐└───┘└───┘ ░  ║ └╥┘\n",
       "o_0: ┤ X ├┤ H ├─░─┤ X ├─────┤ X ├─────┤ X ├──────────┤ X ├───────────░──╫──╫─\n",
       "     └───┘└───┘ ░ └───┘     └───┘     └───┘          └───┘           ░  ║  ║ \n",
       "m: 2/═══════════════════════════════════════════════════════════════════╩══╩═\n",
       "                                                                        0  1 "
      ]
     },
     "execution_count": 28,
     "metadata": {},
     "output_type": "execute_result"
    }
   ],
   "source": [
    "# p355 (p376 PDF)\n",
    "\n",
    "# Create Deutsch-Jozsa algorithm\n",
    "dj = DeutschJozsa(oracle=constant_oracle, quantum_instance=quantum_instance)\n",
    "# Construct the circuit and draw the result\n",
    "dj_circuit = dj.construct_circuit(measurement=True)\n",
    "dj_circuit.draw()\n"
   ]
  },
  {
   "cell_type": "code",
   "execution_count": 29,
   "metadata": {},
   "outputs": [
    {
     "name": "stdout",
     "output_type": "stream",
     "text": [
      "{'measurement': {'00': 1024}, 'result': 'constant'}\n"
     ]
    }
   ],
   "source": [
    "# p356 (p377 PDF)\n",
    "\n",
    "# Run the algorithm on the quantum instance\n",
    "results = dj.run(quantum_instance)\n",
    "# Print the results that determines constant or balanced\n",
    "print(results)\n"
   ]
  },
  {
   "cell_type": "code",
   "execution_count": 30,
   "metadata": {},
   "outputs": [],
   "source": [
    "# p357 (p378 PDF)\n",
    "\n",
    "# Create the expression for secret value s: \n",
    "# (This ties x1=01, x2=10 XOR with s=11)\n",
    "s = '0110'\n",
    "\n",
    "# Create the Truth Table Oracle from the expression\n",
    "oracle_simon = TruthTableOracle(s) \n"
   ]
  },
  {
   "cell_type": "code",
   "execution_count": 31,
   "metadata": {},
   "outputs": [
    {
     "data": {
      "text/html": [
       "<pre style=\"word-wrap: normal;white-space: pre;background: #fff0;line-height: 1.1;font-family: &quot;Courier New&quot;,Courier,monospace\">     ┌───┐ ░           ┌───┐     ┌───┐ ░ ┌───┐┌─┐   \n",
       "v_0: ┤ H ├─░────────■──┤ X ├──■──┤ X ├─░─┤ H ├┤M├───\n",
       "     ├───┤ ░ ┌───┐  │  ├───┤  │  └───┘ ░ ├───┤└╥┘┌─┐\n",
       "v_1: ┤ H ├─░─┤ X ├──■──┤ X ├──■────────░─┤ H ├─╫─┤M├\n",
       "     └───┘ ░ └───┘┌─┴─┐└───┘┌─┴─┐      ░ └───┘ ║ └╥┘\n",
       "o_0: ──────░──────┤ X ├─────┤ X ├──────░───────╫──╫─\n",
       "           ░      └───┘     └───┘      ░       ║  ║ \n",
       "m: 2/══════════════════════════════════════════╩══╩═\n",
       "                                               0  1 </pre>"
      ],
      "text/plain": [
       "     ┌───┐ ░           ┌───┐     ┌───┐ ░ ┌───┐┌─┐   \n",
       "v_0: ┤ H ├─░────────■──┤ X ├──■──┤ X ├─░─┤ H ├┤M├───\n",
       "     ├───┤ ░ ┌───┐  │  ├───┤  │  └───┘ ░ ├───┤└╥┘┌─┐\n",
       "v_1: ┤ H ├─░─┤ X ├──■──┤ X ├──■────────░─┤ H ├─╫─┤M├\n",
       "     └───┘ ░ └───┘┌─┴─┐└───┘┌─┴─┐      ░ └───┘ ║ └╥┘\n",
       "o_0: ──────░──────┤ X ├─────┤ X ├──────░───────╫──╫─\n",
       "           ░      └───┘     └───┘      ░       ║  ║ \n",
       "m: 2/══════════════════════════════════════════╩══╩═\n",
       "                                               0  1 "
      ]
     },
     "execution_count": 31,
     "metadata": {},
     "output_type": "execute_result"
    }
   ],
   "source": [
    "# p357 (p378 PDF)\n",
    "\n",
    "# Create Simon algorithm\n",
    "simon = Simon(oracle=oracle_simon, quantum_instance=quantum_instance)\n",
    "simon_circuit = simon.construct_circuit(measurement=True)\n",
    "simon_circuit.draw()\n"
   ]
  },
  {
   "cell_type": "code",
   "execution_count": 32,
   "metadata": {},
   "outputs": [
    {
     "name": "stdout",
     "output_type": "stream",
     "text": [
      "Secret string s =  11\n"
     ]
    }
   ],
   "source": [
    "# p358 (p379 PDF)\n",
    "\n",
    "# Run the Simon algorithm to determine s, \n",
    "# where x1 XOR s = x2\n",
    "results = simon.run(quantum_instance)\n",
    "print('Secret string s = ', results['result'])\n"
   ]
  },
  {
   "cell_type": "code",
   "execution_count": null,
   "metadata": {},
   "outputs": [],
   "source": []
  }
 ],
 "metadata": {
  "kernelspec": {
   "display_name": "Python 3",
   "language": "python",
   "name": "python3"
  },
  "language_info": {
   "codemirror_mode": {
    "name": "ipython",
    "version": 3
   },
   "file_extension": ".py",
   "mimetype": "text/x-python",
   "name": "python",
   "nbconvert_exporter": "python",
   "pygments_lexer": "ipython3",
   "version": "3.7.8"
  }
 },
 "nbformat": 4,
 "nbformat_minor": 4
}
