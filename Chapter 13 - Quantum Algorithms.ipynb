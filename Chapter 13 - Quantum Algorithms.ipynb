{
 "cells": [
  {
   "cell_type": "code",
   "execution_count": 1,
   "metadata": {},
   "outputs": [
    {
     "name": "stderr",
     "output_type": "stream",
     "text": [
      "c:\\Users\\duyni\\Documents\\Learn-Quantum-Computing-with-Python-and-IBM-Quantum-Experience\\quantum_env\\lib\\site-packages\\qiskit\\providers\\ibmq\\ibmqfactory.py:192: UserWarning: Timestamps in IBMQ backend properties, jobs, and job results are all now in local time instead of UTC.\n",
      "  warnings.warn('Timestamps in IBMQ backend properties, jobs, and job results '\n"
     ]
    }
   ],
   "source": [
    "# p43 (p64 PDF) \n",
    "\n",
    "%matplotlib inline\n",
    "# Importing standard Qiskit libraries and configuring account\n",
    "from qiskit import QuantumCircuit, execute, Aer, IBMQ\n",
    "from qiskit.compiler import transpile, assemble\n",
    "from qiskit.tools.jupyter import *\n",
    "from qiskit.visualization import *\n",
    "# Loading your IBM Q account(s)\n",
    "provider = IBMQ.load_account()"
   ]
  },
  {
   "cell_type": "markdown",
   "metadata": {},
   "source": [
    "# Chapter 13 - Quantum Algorithms"
   ]
  },
  {
   "cell_type": "code",
   "execution_count": 2,
   "metadata": {},
   "outputs": [],
   "source": [
    "# p367 (p388 PDF) \n",
    "\n",
    "# Helper function to execute circuits\n",
    "from qiskit.providers.ibmq import least_busy\n",
    "\n",
    "# qc = QuantumCircuit to execute, \n",
    "# simulator = boolean, if True then run on qasm simulator, else run on the least busy quantum system\n",
    "def execute_circuit(qc, simulator):\n",
    "    if(simulator):\n",
    "        backend = Aer.get_backend('qasm_simulator')\n",
    "    else:\n",
    "        backend = provider.backends(filters=lambda x: x.configuration().n_qubits > 2\n",
    "                                   and not x.configuration().simulator)\n",
    "    result = execute(qc, backend, shots=1024).result()\n",
    "    return result\n"
   ]
  },
  {
   "cell_type": "code",
   "execution_count": 3,
   "metadata": {},
   "outputs": [
    {
     "data": {
      "text/plain": [
       "<qiskit.circuit.instructionset.InstructionSet at 0x235c58116c8>"
      ]
     },
     "execution_count": 3,
     "metadata": {},
     "output_type": "execute_result"
    }
   ],
   "source": [
    "# p368 (p389 PDF) \n",
    "\n",
    "# State 1: \n",
    "state1 = QuantumCircuit(2)\n",
    "# Initialize input to |0,0>\n",
    "state1.barrier()\n"
   ]
  },
  {
   "cell_type": "code",
   "execution_count": 4,
   "metadata": {},
   "outputs": [
    {
     "data": {
      "text/plain": [
       "<qiskit.circuit.instructionset.InstructionSet at 0x235c78b6e08>"
      ]
     },
     "execution_count": 4,
     "metadata": {},
     "output_type": "execute_result"
    }
   ],
   "source": [
    "# p368 (p389 PDF) \n",
    "\n",
    "# Prepare the Bell state\n",
    "state1.h(0)\n"
   ]
  },
  {
   "cell_type": "code",
   "execution_count": 5,
   "metadata": {},
   "outputs": [
    {
     "data": {
      "text/plain": [
       "<qiskit.circuit.instructionset.InstructionSet at 0x235c78e2b88>"
      ]
     },
     "execution_count": 5,
     "metadata": {},
     "output_type": "execute_result"
    }
   ],
   "source": [
    "# p368 (p389 PDF) \n",
    "\n",
    "state1.cx(0,1)"
   ]
  },
  {
   "cell_type": "code",
   "execution_count": 6,
   "metadata": {},
   "outputs": [
    {
     "data": {
      "text/html": [
       "<pre style=\"word-wrap: normal;white-space: pre;background: #fff0;line-height: 1.1;font-family: &quot;Courier New&quot;,Courier,monospace\">         ░ ┌───┐      ░ ┌─┐   \n",
       "   q_0: ─░─┤ H ├──■───░─┤M├───\n",
       "         ░ └───┘┌─┴─┐ ░ └╥┘┌─┐\n",
       "   q_1: ─░──────┤ X ├─░──╫─┤M├\n",
       "         ░      └───┘ ░  ║ └╥┘\n",
       "meas: 2/═════════════════╩══╩═\n",
       "                         0  1 </pre>"
      ],
      "text/plain": [
       "         ░ ┌───┐      ░ ┌─┐   \n",
       "   q_0: ─░─┤ H ├──■───░─┤M├───\n",
       "         ░ └───┘┌─┴─┐ ░ └╥┘┌─┐\n",
       "   q_1: ─░──────┤ X ├─░──╫─┤M├\n",
       "         ░      └───┘ ░  ║ └╥┘\n",
       "meas: 2/═════════════════╩══╩═\n",
       "                         0  1 "
      ]
     },
     "execution_count": 6,
     "metadata": {},
     "output_type": "execute_result"
    }
   ],
   "source": [
    "# p368 (p389 PDF) \n",
    "\n",
    "state1.measure_all()\n",
    "state1.draw()\n"
   ]
  },
  {
   "cell_type": "code",
   "execution_count": 7,
   "metadata": {},
   "outputs": [
    {
     "data": {
      "image/png": "[encoded data removed]",
      "text/plain": [
       "<Figure size 504x360 with 1 Axes>"
      ]
     },
     "execution_count": 7,
     "metadata": {},
     "output_type": "execute_result"
    },
    {
     "data": {
      "image/png": "[encoded data removed]",
      "text/plain": [
       "<Figure size 504x360 with 1 Axes>"
      ]
     },
     "metadata": {
      "needs_background": "light"
     },
     "output_type": "display_data"
    }
   ],
   "source": [
    "# p369 (p390 PDF) \n",
    "\n",
    "# Execute the Bell state \n",
    "result = execute_circuit(state1, True)\n",
    "plot_histogram(result.get_counts(state1))\n"
   ]
  },
  {
   "cell_type": "code",
   "execution_count": 8,
   "metadata": {},
   "outputs": [
    {
     "data": {
      "text/plain": [
       "<qiskit.circuit.instructionset.InstructionSet at 0x235c7d29d88>"
      ]
     },
     "execution_count": 8,
     "metadata": {},
     "output_type": "execute_result"
    }
   ],
   "source": [
    "# p369 (p390 PDF) \n",
    "\n",
    "# State 2: \n",
    "state2 = QuantumCircuit(2)\n",
    "\n",
    "# Initialize input state to |1,0>\n",
    "state2.x(1)\n",
    "state2.barrier()\n"
   ]
  },
  {
   "cell_type": "code",
   "execution_count": 9,
   "metadata": {},
   "outputs": [
    {
     "data": {
      "text/html": [
       "<pre style=\"word-wrap: normal;white-space: pre;background: #fff0;line-height: 1.1;font-family: &quot;Courier New&quot;,Courier,monospace\">              ░ ┌───┐      ░ ┌─┐   \n",
       "   q_0: ──────░─┤ H ├──■───░─┤M├───\n",
       "        ┌───┐ ░ └───┘┌─┴─┐ ░ └╥┘┌─┐\n",
       "   q_1: ┤ X ├─░──────┤ X ├─░──╫─┤M├\n",
       "        └───┘ ░      └───┘ ░  ║ └╥┘\n",
       "meas: 2/══════════════════════╩══╩═\n",
       "                              0  1 </pre>"
      ],
      "text/plain": [
       "              ░ ┌───┐      ░ ┌─┐   \n",
       "   q_0: ──────░─┤ H ├──■───░─┤M├───\n",
       "        ┌───┐ ░ └───┘┌─┴─┐ ░ └╥┘┌─┐\n",
       "   q_1: ┤ X ├─░──────┤ X ├─░──╫─┤M├\n",
       "        └───┘ ░      └───┘ ░  ║ └╥┘\n",
       "meas: 2/══════════════════════╩══╩═\n",
       "                              0  1 "
      ]
     },
     "execution_count": 9,
     "metadata": {},
     "output_type": "execute_result"
    }
   ],
   "source": [
    "# p370 (p391 PDF) \n",
    "\n",
    "# Prepare the Bell state\n",
    "state2.h(0)\n",
    "state2.cx(0,1)\n",
    "state2.measure_all()\n",
    "state2.draw()\n"
   ]
  },
  {
   "cell_type": "code",
   "execution_count": 10,
   "metadata": {},
   "outputs": [
    {
     "data": {
      "image/png": "[encoded data removed]",
      "text/plain": [
       "<Figure size 504x360 with 1 Axes>"
      ]
     },
     "execution_count": 10,
     "metadata": {},
     "output_type": "execute_result"
    },
    {
     "data": {
      "image/png": "[encoded data removed]",
      "text/plain": [
       "<Figure size 504x360 with 1 Axes>"
      ]
     },
     "metadata": {
      "needs_background": "light"
     },
     "output_type": "display_data"
    }
   ],
   "source": [
    "# p370 (p391 PDF) \n",
    "\n",
    "# Execute the Bell state |PHI+>\n",
    "result = execute_circuit(state2, True)\n",
    "plot_histogram(result.get_counts(state2))\n"
   ]
  },
  {
   "cell_type": "code",
   "execution_count": 11,
   "metadata": {},
   "outputs": [
    {
     "name": "stdout",
     "output_type": "stream",
     "text": [
      "Step 1: Prepare the input qubits, where q0=0, q1=1\n"
     ]
    },
    {
     "data": {
      "text/html": [
       "<pre style=\"word-wrap: normal;white-space: pre;background: #fff0;line-height: 1.1;font-family: &quot;Courier New&quot;,Courier,monospace\">     ┌───┐ ░ \n",
       "q_0: ┤ I ├─░─\n",
       "     ├───┤ ░ \n",
       "q_1: ┤ X ├─░─\n",
       "     └───┘ ░ \n",
       "c: 1/════════\n",
       "             </pre>"
      ],
      "text/plain": [
       "     ┌───┐ ░ \n",
       "q_0: ┤ I ├─░─\n",
       "     ├───┤ ░ \n",
       "q_1: ┤ X ├─░─\n",
       "     └───┘ ░ \n",
       "c: 1/════════\n",
       "             "
      ]
     },
     "execution_count": 11,
     "metadata": {},
     "output_type": "execute_result"
    }
   ],
   "source": [
    "# p375 (p396 PDF) \n",
    "\n",
    "# Implement Deutsch's algorithm for a balanced function\n",
    "qc = QuantumCircuit(2,1)\n",
    "\n",
    "# Prepare the input qubits, where q0=0, q1=1\n",
    "print('Step 1: Prepare the input qubits, where q0=0, q1=1')\n",
    "qc.i(0)\n",
    "qc.x(1)\n",
    "qc.barrier()\n",
    "qc.draw()\n"
   ]
  },
  {
   "cell_type": "code",
   "execution_count": 12,
   "metadata": {},
   "outputs": [
    {
     "name": "stdout",
     "output_type": "stream",
     "text": [
      "Step 2: Place each qubit in superposition by applying a Hadamard\n"
     ]
    },
    {
     "data": {
      "text/html": [
       "<pre style=\"word-wrap: normal;white-space: pre;background: #fff0;line-height: 1.1;font-family: &quot;Courier New&quot;,Courier,monospace\">     ┌───┐ ░ ┌───┐ ░ \n",
       "q_0: ┤ I ├─░─┤ H ├─░─\n",
       "     ├───┤ ░ ├───┤ ░ \n",
       "q_1: ┤ X ├─░─┤ H ├─░─\n",
       "     └───┘ ░ └───┘ ░ \n",
       "c: 1/════════════════\n",
       "                     </pre>"
      ],
      "text/plain": [
       "     ┌───┐ ░ ┌───┐ ░ \n",
       "q_0: ┤ I ├─░─┤ H ├─░─\n",
       "     ├───┤ ░ ├───┤ ░ \n",
       "q_1: ┤ X ├─░─┤ H ├─░─\n",
       "     └───┘ ░ └───┘ ░ \n",
       "c: 1/════════════════\n",
       "                     "
      ]
     },
     "execution_count": 12,
     "metadata": {},
     "output_type": "execute_result"
    }
   ],
   "source": [
    "# p376 (p397 PDF) \n",
    "\n",
    "# Place each qubit in superposition by applying a Hadamard\n",
    "print('Step 2: Place each qubit in superposition by applying a Hadamard')\n",
    "qc.h(0)\n",
    "qc.h(1)\n",
    "qc.barrier()\n",
    "qc.draw()\n"
   ]
  },
  {
   "cell_type": "code",
   "execution_count": 13,
   "metadata": {},
   "outputs": [
    {
     "data": {
      "text/html": [
       "<pre style=\"word-wrap: normal;white-space: pre;background: #fff0;line-height: 1.1;font-family: &quot;Courier New&quot;,Courier,monospace\">     ┌───┐ ░ ┌───┐ ░      \n",
       "q_0: ┤ I ├─░─┤ H ├─░───■──\n",
       "     ├───┤ ░ ├───┤ ░ ┌─┴─┐\n",
       "q_1: ┤ X ├─░─┤ H ├─░─┤ X ├\n",
       "     └───┘ ░ └───┘ ░ └───┘\n",
       "c: 1/═════════════════════\n",
       "                          </pre>"
      ],
      "text/plain": [
       "     ┌───┐ ░ ┌───┐ ░      \n",
       "q_0: ┤ I ├─░─┤ H ├─░───■──\n",
       "     ├───┤ ░ ├───┤ ░ ┌─┴─┐\n",
       "q_1: ┤ X ├─░─┤ H ├─░─┤ X ├\n",
       "     └───┘ ░ └───┘ ░ └───┘\n",
       "c: 1/═════════════════════\n",
       "                          "
      ]
     },
     "execution_count": 13,
     "metadata": {},
     "output_type": "execute_result"
    }
   ],
   "source": [
    "# p378 (p399 PDF) \n",
    "\n",
    "# Add a CNOT gate with the Control on q0 and Target on q1\n",
    "qc.cx(0,1)\n",
    "# Draw the circuit\n",
    "qc.draw()\n"
   ]
  },
  {
   "cell_type": "code",
   "execution_count": 14,
   "metadata": {},
   "outputs": [
    {
     "data": {
      "text/html": [
       "<pre style=\"word-wrap: normal;white-space: pre;background: #fff0;line-height: 1.1;font-family: &quot;Courier New&quot;,Courier,monospace\">     ┌───┐ ░ ┌───┐ ░      ┌───┐ ░ \n",
       "q_0: ┤ I ├─░─┤ H ├─░───■──┤ H ├─░─\n",
       "     ├───┤ ░ ├───┤ ░ ┌─┴─┐├───┤ ░ \n",
       "q_1: ┤ X ├─░─┤ H ├─░─┤ X ├┤ H ├─░─\n",
       "     └───┘ ░ └───┘ ░ └───┘└───┘ ░ \n",
       "c: 1/═════════════════════════════\n",
       "                                  </pre>"
      ],
      "text/plain": [
       "     ┌───┐ ░ ┌───┐ ░      ┌───┐ ░ \n",
       "q_0: ┤ I ├─░─┤ H ├─░───■──┤ H ├─░─\n",
       "     ├───┤ ░ ├───┤ ░ ┌─┴─┐├───┤ ░ \n",
       "q_1: ┤ X ├─░─┤ H ├─░─┤ X ├┤ H ├─░─\n",
       "     └───┘ ░ └───┘ ░ └───┘└───┘ ░ \n",
       "c: 1/═════════════════════════════\n",
       "                                  "
      ]
     },
     "execution_count": 14,
     "metadata": {},
     "output_type": "execute_result"
    }
   ],
   "source": [
    "# p379 (p400 PDF) \n",
    "\n",
    "# Add the Hadamard gates to all qubits\n",
    "qc.h(0)\n",
    "qc.h(1)\n",
    "qc.barrier()\n",
    "qc.draw()"
   ]
  },
  {
   "cell_type": "code",
   "execution_count": 15,
   "metadata": {},
   "outputs": [
    {
     "data": {
      "text/html": [
       "<pre style=\"word-wrap: normal;white-space: pre;background: #fff0;line-height: 1.1;font-family: &quot;Courier New&quot;,Courier,monospace\">     ┌───┐ ░ ┌───┐ ░      ┌───┐ ░ ┌─┐\n",
       "q_0: ┤ I ├─░─┤ H ├─░───■──┤ H ├─░─┤M├\n",
       "     ├───┤ ░ ├───┤ ░ ┌─┴─┐├───┤ ░ └╥┘\n",
       "q_1: ┤ X ├─░─┤ H ├─░─┤ X ├┤ H ├─░──╫─\n",
       "     └───┘ ░ └───┘ ░ └───┘└───┘ ░  ║ \n",
       "c: 1/══════════════════════════════╩═\n",
       "                                   0 </pre>"
      ],
      "text/plain": [
       "     ┌───┐ ░ ┌───┐ ░      ┌───┐ ░ ┌─┐\n",
       "q_0: ┤ I ├─░─┤ H ├─░───■──┤ H ├─░─┤M├\n",
       "     ├───┤ ░ ├───┤ ░ ┌─┴─┐├───┤ ░ └╥┘\n",
       "q_1: ┤ X ├─░─┤ H ├─░─┤ X ├┤ H ├─░──╫─\n",
       "     └───┘ ░ └───┘ ░ └───┘└───┘ ░  ║ \n",
       "c: 1/══════════════════════════════╩═\n",
       "                                   0 "
      ]
     },
     "execution_count": 15,
     "metadata": {},
     "output_type": "execute_result"
    }
   ],
   "source": [
    "# p380 (p401 PDF) \n",
    "\n",
    "# Add measurement operator to the first qubit\n",
    "qc.measure(0,0)\n",
    "qc.draw()"
   ]
  },
  {
   "cell_type": "code",
   "execution_count": 16,
   "metadata": {},
   "outputs": [
    {
     "name": "stdout",
     "output_type": "stream",
     "text": [
      "Step 6: Execute the quantum circuit to view results.\n",
      "{'1': 1024}\n"
     ]
    },
    {
     "data": {
      "image/png": "[encoded data removed]",
      "text/plain": [
       "<Figure size 504x360 with 1 Axes>"
      ]
     },
     "execution_count": 16,
     "metadata": {},
     "output_type": "execute_result"
    },
    {
     "data": {
      "image/png": "[encoded data removed]",
      "text/plain": [
       "<Figure size 504x360 with 1 Axes>"
      ]
     },
     "metadata": {
      "needs_background": "light"
     },
     "output_type": "display_data"
    }
   ],
   "source": [
    "# p381 (p402 PDF) \n",
    "\n",
    "# Execute the quantum circuit on the simulator first to confirm our results.\n",
    "print('Step 6: Execute the quantum circuit to view results.')\n",
    "backend = Aer.get_backend('qasm_simulator')\n",
    "result = execute(qc, backend=backend, shots=1024).result()\n",
    "counts = result.get_counts(qc)\n",
    "\n",
    "# Print and plot our results\n",
    "print(counts)\n",
    "plot_histogram(counts, title='Balanced function')\n"
   ]
  },
  {
   "cell_type": "code",
   "execution_count": 17,
   "metadata": {},
   "outputs": [
    {
     "data": {
      "application/vnd.jupyter.widget-view+json": {
       "model_id": "9ec9fb7c4e484f2c80218f6e3a430693",
       "version_major": 2,
       "version_minor": 0
      },
      "text/plain": [
       "Accordion(children=(VBox(layout=Layout(max_width='710px', min_width='710px')),), layout=Layout(max_height='500…"
      ]
     },
     "metadata": {},
     "output_type": "display_data"
    },
    {
     "data": {
      "application/javascript": "$('div.job_widget')\n        .detach()\n        .appendTo($('#header'))\n        .css({\n            'z-index': 999,\n             'position': 'fixed',\n            'box-shadow': '5px 5px 5px -3px black',\n            'opacity': 0.95,\n            'float': 'left,'\n        })\n        ",
      "text/plain": [
       "<IPython.core.display.Javascript object>"
      ]
     },
     "metadata": {},
     "output_type": "display_data"
    },
    {
     "name": "stdout",
     "output_type": "stream",
     "text": [
      "The least busy device: ibmq_quito\n"
     ]
    }
   ],
   "source": [
    "# p382 (p403 PDF) \n",
    "\n",
    "#Import the least_busy module and enable Qiskit job watcher\n",
    "from qiskit.providers.ibmq import least_busy\n",
    "%qiskit_job_watcher\n",
    "\n",
    "#Identify the least busy devices \n",
    "backend_devices = provider.backends(filters=lambda x: x.configuration().n_qubits > 2\n",
    "                                   and not x.configuration().simulator)\n",
    "# Assign least busy device to backend\n",
    "backend = least_busy(backend_devices)\n",
    "\n",
    "#Print the least busy device\n",
    "print('The least busy device: {}'.format(least_busy(backend_devices)))\n"
   ]
  },
  {
   "cell_type": "code",
   "execution_count": 18,
   "metadata": {},
   "outputs": [
    {
     "ename": "KeyboardInterrupt",
     "evalue": "",
     "output_type": "error",
     "traceback": [
      "\u001b[1;31m---------------------------------------------------------------------------\u001b[0m",
      "\u001b[1;31mKeyboardInterrupt\u001b[0m                         Traceback (most recent call last)",
      "\u001b[1;32m~\\AppData\\Local\\Temp\\ipykernel_14296\\1347870488.py\u001b[0m in \u001b[0;36m<module>\u001b[1;34m\u001b[0m\n\u001b[0;32m      1\u001b[0m \u001b[1;31m# Execute the previous constant circuit on a quantum device\u001b[0m\u001b[1;33m\u001b[0m\u001b[1;33m\u001b[0m\u001b[1;33m\u001b[0m\u001b[0m\n\u001b[1;32m----> 2\u001b[1;33m \u001b[0mresult\u001b[0m \u001b[1;33m=\u001b[0m \u001b[0mexecute\u001b[0m\u001b[1;33m(\u001b[0m\u001b[0mqc\u001b[0m\u001b[1;33m,\u001b[0m \u001b[0mbackend\u001b[0m\u001b[1;33m=\u001b[0m\u001b[0mbackend\u001b[0m\u001b[1;33m,\u001b[0m \u001b[0mshots\u001b[0m\u001b[1;33m=\u001b[0m\u001b[1;36m1024\u001b[0m\u001b[1;33m)\u001b[0m\u001b[1;33m.\u001b[0m\u001b[0mresult\u001b[0m\u001b[1;33m(\u001b[0m\u001b[1;33m)\u001b[0m\u001b[1;33m\u001b[0m\u001b[1;33m\u001b[0m\u001b[0m\n\u001b[0m\u001b[0;32m      3\u001b[0m \u001b[0mcounts\u001b[0m \u001b[1;33m=\u001b[0m \u001b[0mresult\u001b[0m\u001b[1;33m.\u001b[0m\u001b[0mget_counts\u001b[0m\u001b[1;33m(\u001b[0m\u001b[0mqc\u001b[0m\u001b[1;33m)\u001b[0m\u001b[1;33m\u001b[0m\u001b[1;33m\u001b[0m\u001b[0m\n\u001b[0;32m      4\u001b[0m \u001b[1;31m# Print and plot results\u001b[0m\u001b[1;33m\u001b[0m\u001b[1;33m\u001b[0m\u001b[1;33m\u001b[0m\u001b[0m\n\u001b[0;32m      5\u001b[0m \u001b[0mprint\u001b[0m\u001b[1;33m(\u001b[0m\u001b[0mcounts\u001b[0m\u001b[1;33m)\u001b[0m\u001b[1;33m\u001b[0m\u001b[1;33m\u001b[0m\u001b[0m\n",
      "\u001b[1;32mc:\\Users\\duyni\\Documents\\Learn-Quantum-Computing-with-Python-and-IBM-Quantum-Experience\\quantum_env\\lib\\site-packages\\qiskit\\providers\\ibmq\\job\\ibmqjob.py\u001b[0m in \u001b[0;36mresult\u001b[1;34m(self, timeout, wait, partial, refresh)\u001b[0m\n\u001b[0;32m    275\u001b[0m         \u001b[1;31m# pylint: disable=arguments-differ\u001b[0m\u001b[1;33m\u001b[0m\u001b[1;33m\u001b[0m\u001b[1;33m\u001b[0m\u001b[0m\n\u001b[0;32m    276\u001b[0m         if not self._wait_for_completion(timeout=timeout, wait=wait,\n\u001b[1;32m--> 277\u001b[1;33m                                          required_status=(JobStatus.DONE,)):\n\u001b[0m\u001b[0;32m    278\u001b[0m             \u001b[1;32mif\u001b[0m \u001b[0mself\u001b[0m\u001b[1;33m.\u001b[0m\u001b[0m_status\u001b[0m \u001b[1;32mis\u001b[0m \u001b[0mJobStatus\u001b[0m\u001b[1;33m.\u001b[0m\u001b[0mCANCELLED\u001b[0m\u001b[1;33m:\u001b[0m\u001b[1;33m\u001b[0m\u001b[1;33m\u001b[0m\u001b[0m\n\u001b[0;32m    279\u001b[0m                 raise IBMQJobInvalidStateError('Unable to retrieve result for job {}. '\n",
      "\u001b[1;32mc:\\Users\\duyni\\Documents\\Learn-Quantum-Computing-with-Python-and-IBM-Quantum-Experience\\quantum_env\\lib\\site-packages\\qiskit\\providers\\ibmq\\job\\ibmqjob.py\u001b[0m in \u001b[0;36m_wait_for_completion\u001b[1;34m(self, timeout, wait, required_status, status_queue)\u001b[0m\n\u001b[0;32m    872\u001b[0m         \u001b[1;32mtry\u001b[0m\u001b[1;33m:\u001b[0m\u001b[1;33m\u001b[0m\u001b[1;33m\u001b[0m\u001b[0m\n\u001b[0;32m    873\u001b[0m             status_response = self._api_client.job_final_status(\n\u001b[1;32m--> 874\u001b[1;33m                 self.job_id(), timeout=timeout, wait=wait, status_queue=status_queue)\n\u001b[0m\u001b[0;32m    875\u001b[0m         \u001b[1;32mexcept\u001b[0m \u001b[0mUserTimeoutExceededError\u001b[0m\u001b[1;33m:\u001b[0m\u001b[1;33m\u001b[0m\u001b[1;33m\u001b[0m\u001b[0m\n\u001b[0;32m    876\u001b[0m             raise IBMQJobTimeoutError(\n",
      "\u001b[1;32mc:\\Users\\duyni\\Documents\\Learn-Quantum-Computing-with-Python-and-IBM-Quantum-Experience\\quantum_env\\lib\\site-packages\\qiskit\\providers\\ibmq\\api\\clients\\account.py\u001b[0m in \u001b[0;36mjob_final_status\u001b[1;34m(self, job_id, timeout, wait, status_queue)\u001b[0m\n\u001b[0;32m    360\u001b[0m             \u001b[1;32mtry\u001b[0m\u001b[1;33m:\u001b[0m\u001b[1;33m\u001b[0m\u001b[1;33m\u001b[0m\u001b[0m\n\u001b[0;32m    361\u001b[0m                 status_response = self._job_final_status_websocket(\n\u001b[1;32m--> 362\u001b[1;33m                     job_id=job_id, timeout=timeout, status_queue=status_queue)\n\u001b[0m\u001b[0;32m    363\u001b[0m             \u001b[1;32mexcept\u001b[0m \u001b[0mWebsocketTimeoutError\u001b[0m \u001b[1;32mas\u001b[0m \u001b[0mex\u001b[0m\u001b[1;33m:\u001b[0m\u001b[1;33m\u001b[0m\u001b[1;33m\u001b[0m\u001b[0m\n\u001b[0;32m    364\u001b[0m                 logger.info('Timeout checking job status using websocket, '\n",
      "\u001b[1;32mc:\\Users\\duyni\\Documents\\Learn-Quantum-Computing-with-Python-and-IBM-Quantum-Experience\\quantum_env\\lib\\site-packages\\qiskit\\providers\\ibmq\\api\\clients\\account.py\u001b[0m in \u001b[0;36m_job_final_status_websocket\u001b[1;34m(self, job_id, timeout, status_queue)\u001b[0m\n\u001b[0;32m    412\u001b[0m                 \u001b[1;32mraise\u001b[0m\u001b[1;33m\u001b[0m\u001b[1;33m\u001b[0m\u001b[0m\n\u001b[0;32m    413\u001b[0m         return loop.run_until_complete(\n\u001b[1;32m--> 414\u001b[1;33m             self.client_ws.get_job_status(job_id, timeout=timeout, status_queue=status_queue))\n\u001b[0m\u001b[0;32m    415\u001b[0m \u001b[1;33m\u001b[0m\u001b[0m\n\u001b[0;32m    416\u001b[0m     def _job_final_status_polling(\n",
      "\u001b[1;32mc:\\Users\\duyni\\Documents\\Learn-Quantum-Computing-with-Python-and-IBM-Quantum-Experience\\quantum_env\\lib\\site-packages\\nest_asyncio.py\u001b[0m in \u001b[0;36mrun_until_complete\u001b[1;34m(self, future)\u001b[0m\n\u001b[0;32m     82\u001b[0m                 \u001b[0mf\u001b[0m\u001b[1;33m.\u001b[0m\u001b[0m_log_destroy_pending\u001b[0m \u001b[1;33m=\u001b[0m \u001b[1;32mFalse\u001b[0m\u001b[1;33m\u001b[0m\u001b[1;33m\u001b[0m\u001b[0m\n\u001b[0;32m     83\u001b[0m             \u001b[1;32mwhile\u001b[0m \u001b[1;32mnot\u001b[0m \u001b[0mf\u001b[0m\u001b[1;33m.\u001b[0m\u001b[0mdone\u001b[0m\u001b[1;33m(\u001b[0m\u001b[1;33m)\u001b[0m\u001b[1;33m:\u001b[0m\u001b[1;33m\u001b[0m\u001b[1;33m\u001b[0m\u001b[0m\n\u001b[1;32m---> 84\u001b[1;33m                 \u001b[0mself\u001b[0m\u001b[1;33m.\u001b[0m\u001b[0m_run_once\u001b[0m\u001b[1;33m(\u001b[0m\u001b[1;33m)\u001b[0m\u001b[1;33m\u001b[0m\u001b[1;33m\u001b[0m\u001b[0m\n\u001b[0m\u001b[0;32m     85\u001b[0m                 \u001b[1;32mif\u001b[0m \u001b[0mself\u001b[0m\u001b[1;33m.\u001b[0m\u001b[0m_stopping\u001b[0m\u001b[1;33m:\u001b[0m\u001b[1;33m\u001b[0m\u001b[1;33m\u001b[0m\u001b[0m\n\u001b[0;32m     86\u001b[0m                     \u001b[1;32mbreak\u001b[0m\u001b[1;33m\u001b[0m\u001b[1;33m\u001b[0m\u001b[0m\n",
      "\u001b[1;32mc:\\Users\\duyni\\Documents\\Learn-Quantum-Computing-with-Python-and-IBM-Quantum-Experience\\quantum_env\\lib\\site-packages\\nest_asyncio.py\u001b[0m in \u001b[0;36m_run_once\u001b[1;34m(self)\u001b[0m\n\u001b[0;32m    105\u001b[0m                 scheduled[0]._when - self.time(), 0), 86400) if scheduled\n\u001b[0;32m    106\u001b[0m             else None)\n\u001b[1;32m--> 107\u001b[1;33m         \u001b[0mevent_list\u001b[0m \u001b[1;33m=\u001b[0m \u001b[0mself\u001b[0m\u001b[1;33m.\u001b[0m\u001b[0m_selector\u001b[0m\u001b[1;33m.\u001b[0m\u001b[0mselect\u001b[0m\u001b[1;33m(\u001b[0m\u001b[0mtimeout\u001b[0m\u001b[1;33m)\u001b[0m\u001b[1;33m\u001b[0m\u001b[1;33m\u001b[0m\u001b[0m\n\u001b[0m\u001b[0;32m    108\u001b[0m         \u001b[0mself\u001b[0m\u001b[1;33m.\u001b[0m\u001b[0m_process_events\u001b[0m\u001b[1;33m(\u001b[0m\u001b[0mevent_list\u001b[0m\u001b[1;33m)\u001b[0m\u001b[1;33m\u001b[0m\u001b[1;33m\u001b[0m\u001b[0m\n\u001b[0;32m    109\u001b[0m \u001b[1;33m\u001b[0m\u001b[0m\n",
      "\u001b[1;32m~\\AppData\\Local\\Programs\\Python\\Python37\\lib\\selectors.py\u001b[0m in \u001b[0;36mselect\u001b[1;34m(self, timeout)\u001b[0m\n\u001b[0;32m    321\u001b[0m         \u001b[0mready\u001b[0m \u001b[1;33m=\u001b[0m \u001b[1;33m[\u001b[0m\u001b[1;33m]\u001b[0m\u001b[1;33m\u001b[0m\u001b[1;33m\u001b[0m\u001b[0m\n\u001b[0;32m    322\u001b[0m         \u001b[1;32mtry\u001b[0m\u001b[1;33m:\u001b[0m\u001b[1;33m\u001b[0m\u001b[1;33m\u001b[0m\u001b[0m\n\u001b[1;32m--> 323\u001b[1;33m             \u001b[0mr\u001b[0m\u001b[1;33m,\u001b[0m \u001b[0mw\u001b[0m\u001b[1;33m,\u001b[0m \u001b[0m_\u001b[0m \u001b[1;33m=\u001b[0m \u001b[0mself\u001b[0m\u001b[1;33m.\u001b[0m\u001b[0m_select\u001b[0m\u001b[1;33m(\u001b[0m\u001b[0mself\u001b[0m\u001b[1;33m.\u001b[0m\u001b[0m_readers\u001b[0m\u001b[1;33m,\u001b[0m \u001b[0mself\u001b[0m\u001b[1;33m.\u001b[0m\u001b[0m_writers\u001b[0m\u001b[1;33m,\u001b[0m \u001b[1;33m[\u001b[0m\u001b[1;33m]\u001b[0m\u001b[1;33m,\u001b[0m \u001b[0mtimeout\u001b[0m\u001b[1;33m)\u001b[0m\u001b[1;33m\u001b[0m\u001b[1;33m\u001b[0m\u001b[0m\n\u001b[0m\u001b[0;32m    324\u001b[0m         \u001b[1;32mexcept\u001b[0m \u001b[0mInterruptedError\u001b[0m\u001b[1;33m:\u001b[0m\u001b[1;33m\u001b[0m\u001b[1;33m\u001b[0m\u001b[0m\n\u001b[0;32m    325\u001b[0m             \u001b[1;32mreturn\u001b[0m \u001b[0mready\u001b[0m\u001b[1;33m\u001b[0m\u001b[1;33m\u001b[0m\u001b[0m\n",
      "\u001b[1;32m~\\AppData\\Local\\Programs\\Python\\Python37\\lib\\selectors.py\u001b[0m in \u001b[0;36m_select\u001b[1;34m(self, r, w, _, timeout)\u001b[0m\n\u001b[0;32m    312\u001b[0m     \u001b[1;32mif\u001b[0m \u001b[0msys\u001b[0m\u001b[1;33m.\u001b[0m\u001b[0mplatform\u001b[0m \u001b[1;33m==\u001b[0m \u001b[1;34m'win32'\u001b[0m\u001b[1;33m:\u001b[0m\u001b[1;33m\u001b[0m\u001b[1;33m\u001b[0m\u001b[0m\n\u001b[0;32m    313\u001b[0m         \u001b[1;32mdef\u001b[0m \u001b[0m_select\u001b[0m\u001b[1;33m(\u001b[0m\u001b[0mself\u001b[0m\u001b[1;33m,\u001b[0m \u001b[0mr\u001b[0m\u001b[1;33m,\u001b[0m \u001b[0mw\u001b[0m\u001b[1;33m,\u001b[0m \u001b[0m_\u001b[0m\u001b[1;33m,\u001b[0m \u001b[0mtimeout\u001b[0m\u001b[1;33m=\u001b[0m\u001b[1;32mNone\u001b[0m\u001b[1;33m)\u001b[0m\u001b[1;33m:\u001b[0m\u001b[1;33m\u001b[0m\u001b[1;33m\u001b[0m\u001b[0m\n\u001b[1;32m--> 314\u001b[1;33m             \u001b[0mr\u001b[0m\u001b[1;33m,\u001b[0m \u001b[0mw\u001b[0m\u001b[1;33m,\u001b[0m \u001b[0mx\u001b[0m \u001b[1;33m=\u001b[0m \u001b[0mselect\u001b[0m\u001b[1;33m.\u001b[0m\u001b[0mselect\u001b[0m\u001b[1;33m(\u001b[0m\u001b[0mr\u001b[0m\u001b[1;33m,\u001b[0m \u001b[0mw\u001b[0m\u001b[1;33m,\u001b[0m \u001b[0mw\u001b[0m\u001b[1;33m,\u001b[0m \u001b[0mtimeout\u001b[0m\u001b[1;33m)\u001b[0m\u001b[1;33m\u001b[0m\u001b[1;33m\u001b[0m\u001b[0m\n\u001b[0m\u001b[0;32m    315\u001b[0m             \u001b[1;32mreturn\u001b[0m \u001b[0mr\u001b[0m\u001b[1;33m,\u001b[0m \u001b[0mw\u001b[0m \u001b[1;33m+\u001b[0m \u001b[0mx\u001b[0m\u001b[1;33m,\u001b[0m \u001b[1;33m[\u001b[0m\u001b[1;33m]\u001b[0m\u001b[1;33m\u001b[0m\u001b[1;33m\u001b[0m\u001b[0m\n\u001b[0;32m    316\u001b[0m     \u001b[1;32melse\u001b[0m\u001b[1;33m:\u001b[0m\u001b[1;33m\u001b[0m\u001b[1;33m\u001b[0m\u001b[0m\n",
      "\u001b[1;31mKeyboardInterrupt\u001b[0m: "
     ]
    }
   ],
   "source": [
    "# p382 (p403 PDF) \n",
    "\n",
    "# Execute the previous constant circuit on a quantum device\n",
    "result = execute(qc, backend=backend, shots=1024).result()\n",
    "counts = result.get_counts(qc)\n",
    "# Print and plot results\n",
    "print(counts)\n",
    "plot_histogram(counts, title='Balanced function')\n"
   ]
  },
  {
   "cell_type": "code",
   "execution_count": 19,
   "metadata": {},
   "outputs": [
    {
     "data": {
      "text/html": [
       "<pre style=\"word-wrap: normal;white-space: pre;background: #fff0;line-height: 1.1;font-family: &quot;Courier New&quot;,Courier,monospace\">     ┌───┐      ░ \n",
       "q_0: ┤ H ├──────░─\n",
       "     ├───┤      ░ \n",
       "q_1: ┤ H ├──────░─\n",
       "     ├───┤      ░ \n",
       "q_2: ┤ H ├──────░─\n",
       "     ├───┤      ░ \n",
       "q_3: ┤ H ├──────░─\n",
       "     ├───┤┌───┐ ░ \n",
       "q_4: ┤ X ├┤ H ├─░─\n",
       "     └───┘└───┘ ░ \n",
       "c: 4/═════════════\n",
       "                  </pre>"
      ],
      "text/plain": [
       "     ┌───┐      ░ \n",
       "q_0: ┤ H ├──────░─\n",
       "     ├───┤      ░ \n",
       "q_1: ┤ H ├──────░─\n",
       "     ├───┤      ░ \n",
       "q_2: ┤ H ├──────░─\n",
       "     ├───┤      ░ \n",
       "q_3: ┤ H ├──────░─\n",
       "     ├───┤┌───┐ ░ \n",
       "q_4: ┤ X ├┤ H ├─░─\n",
       "     └───┘└───┘ ░ \n",
       "c: 4/═════════════\n",
       "                  "
      ]
     },
     "execution_count": 19,
     "metadata": {},
     "output_type": "execute_result"
    }
   ],
   "source": [
    "# p386 (p407 PDF) \n",
    "\n",
    "# Create the quantum circuit with both input registers X, and y\n",
    "input_qubits = 4  # Refers to our X input register, 4-qubits\n",
    "ancilla_qubit = 1 # Refers to our y input register, 1-qubit\n",
    "\n",
    "# Total qubits in our quantum circuit\n",
    "total_qubits = input_qubits + ancilla_qubit\n",
    "\n",
    "# Generate the circuit\n",
    "qc = QuantumCircuit(total_qubits, input_qubits)\n",
    "# Set the X qubits in superposition\n",
    "for idx in range(input_qubits):\n",
    "    qc.h(idx)\n",
    "    \n",
    "# Set the y qubit to 1, then apply a Hadamard\n",
    "qc.x(input_qubits)\n",
    "qc.h(input_qubits)\n",
    "\n",
    "qc.barrier()\n",
    "qc.draw()\n"
   ]
  },
  {
   "cell_type": "code",
   "execution_count": 20,
   "metadata": {},
   "outputs": [
    {
     "data": {
      "text/html": [
       "<pre style=\"word-wrap: normal;white-space: pre;background: #fff0;line-height: 1.1;font-family: &quot;Courier New&quot;,Courier,monospace\">     ┌───┐      ░ ┌───┐ ░ \n",
       "q_0: ┤ H ├──────░─┤ I ├─░─\n",
       "     ├───┤      ░ ├───┤ ░ \n",
       "q_1: ┤ H ├──────░─┤ X ├─░─\n",
       "     ├───┤      ░ ├───┤ ░ \n",
       "q_2: ┤ H ├──────░─┤ I ├─░─\n",
       "     ├───┤      ░ ├───┤ ░ \n",
       "q_3: ┤ H ├──────░─┤ X ├─░─\n",
       "     ├───┤┌───┐ ░ └───┘ ░ \n",
       "q_4: ┤ X ├┤ H ├─░───────░─\n",
       "     └───┘└───┘ ░       ░ \n",
       "c: 4/═════════════════════\n",
       "                          </pre>"
      ],
      "text/plain": [
       "     ┌───┐      ░ ┌───┐ ░ \n",
       "q_0: ┤ H ├──────░─┤ I ├─░─\n",
       "     ├───┤      ░ ├───┤ ░ \n",
       "q_1: ┤ H ├──────░─┤ X ├─░─\n",
       "     ├───┤      ░ ├───┤ ░ \n",
       "q_2: ┤ H ├──────░─┤ I ├─░─\n",
       "     ├───┤      ░ ├───┤ ░ \n",
       "q_3: ┤ H ├──────░─┤ X ├─░─\n",
       "     ├───┤┌───┐ ░ └───┘ ░ \n",
       "q_4: ┤ X ├┤ H ├─░───────░─\n",
       "     └───┘└───┘ ░       ░ \n",
       "c: 4/═════════════════════\n",
       "                          "
      ]
     },
     "execution_count": 20,
     "metadata": {},
     "output_type": "execute_result"
    }
   ],
   "source": [
    "# p388 (p409 PDF) \n",
    "\n",
    "# Set the bit string which we wish to evaluate, in this case lets set '1010', where I indicates value 0, and x indicates value 1.\n",
    "qc.i(0)\n",
    "qc.x(1)\n",
    "qc.i(2)\n",
    "qc.x(3)\n",
    "\n",
    "qc.barrier()\n",
    "qc.draw()\n"
   ]
  },
  {
   "cell_type": "code",
   "execution_count": 21,
   "metadata": {},
   "outputs": [
    {
     "data": {
      "text/html": [
       "<pre style=\"word-wrap: normal;white-space: pre;background: #fff0;line-height: 1.1;font-family: &quot;Courier New&quot;,Courier,monospace\">     ┌───┐      ░ ┌───┐ ░                      ░ \n",
       "q_0: ┤ H ├──────░─┤ I ├─░───■──────────────────░─\n",
       "     ├───┤      ░ ├───┤ ░   │                  ░ \n",
       "q_1: ┤ H ├──────░─┤ X ├─░───┼────■─────────────░─\n",
       "     ├───┤      ░ ├───┤ ░   │    │             ░ \n",
       "q_2: ┤ H ├──────░─┤ I ├─░───┼────┼────■────────░─\n",
       "     ├───┤      ░ ├───┤ ░   │    │    │        ░ \n",
       "q_3: ┤ H ├──────░─┤ X ├─░───┼────┼────┼────■───░─\n",
       "     ├───┤┌───┐ ░ └───┘ ░ ┌─┴─┐┌─┴─┐┌─┴─┐┌─┴─┐ ░ \n",
       "q_4: ┤ X ├┤ H ├─░───────░─┤ X ├┤ X ├┤ X ├┤ X ├─░─\n",
       "     └───┘└───┘ ░       ░ └───┘└───┘└───┘└───┘ ░ \n",
       "c: 4/════════════════════════════════════════════\n",
       "                                                 </pre>"
      ],
      "text/plain": [
       "     ┌───┐      ░ ┌───┐ ░                      ░ \n",
       "q_0: ┤ H ├──────░─┤ I ├─░───■──────────────────░─\n",
       "     ├───┤      ░ ├───┤ ░   │                  ░ \n",
       "q_1: ┤ H ├──────░─┤ X ├─░───┼────■─────────────░─\n",
       "     ├───┤      ░ ├───┤ ░   │    │             ░ \n",
       "q_2: ┤ H ├──────░─┤ I ├─░───┼────┼────■────────░─\n",
       "     ├───┤      ░ ├───┤ ░   │    │    │        ░ \n",
       "q_3: ┤ H ├──────░─┤ X ├─░───┼────┼────┼────■───░─\n",
       "     ├───┤┌───┐ ░ └───┘ ░ ┌─┴─┐┌─┴─┐┌─┴─┐┌─┴─┐ ░ \n",
       "q_4: ┤ X ├┤ H ├─░───────░─┤ X ├┤ X ├┤ X ├┤ X ├─░─\n",
       "     └───┘└───┘ ░       ░ └───┘└───┘└───┘└───┘ ░ \n",
       "c: 4/════════════════════════════════════════════\n",
       "                                                 "
      ]
     },
     "execution_count": 21,
     "metadata": {},
     "output_type": "execute_result"
    }
   ],
   "source": [
    "# p388 (p409 PDF) \n",
    "\n",
    "# Set oracle to either constant (output = 0s) \n",
    "# or balanced (output = 1s)\n",
    "\n",
    "# In this example we will choose a balanced function \n",
    "for idx in range(input_qubits):\n",
    "    qc.cx(idx, input_qubits)\n",
    "\n",
    "qc.barrier()\n",
    "qc.draw()\n"
   ]
  },
  {
   "cell_type": "code",
   "execution_count": 22,
   "metadata": {},
   "outputs": [
    {
     "data": {
      "text/html": [
       "<pre style=\"word-wrap: normal;white-space: pre;background: #fff0;line-height: 1.1;font-family: &quot;Courier New&quot;,Courier,monospace\">     ┌───┐      ░ ┌───┐ ░                      ░ ┌───┐ ░ \n",
       "q_0: ┤ H ├──────░─┤ I ├─░───■──────────────────░─┤ I ├─░─\n",
       "     ├───┤      ░ ├───┤ ░   │                  ░ ├───┤ ░ \n",
       "q_1: ┤ H ├──────░─┤ X ├─░───┼────■─────────────░─┤ X ├─░─\n",
       "     ├───┤      ░ ├───┤ ░   │    │             ░ ├───┤ ░ \n",
       "q_2: ┤ H ├──────░─┤ I ├─░───┼────┼────■────────░─┤ I ├─░─\n",
       "     ├───┤      ░ ├───┤ ░   │    │    │        ░ ├───┤ ░ \n",
       "q_3: ┤ H ├──────░─┤ X ├─░───┼────┼────┼────■───░─┤ X ├─░─\n",
       "     ├───┤┌───┐ ░ └───┘ ░ ┌─┴─┐┌─┴─┐┌─┴─┐┌─┴─┐ ░ └───┘ ░ \n",
       "q_4: ┤ X ├┤ H ├─░───────░─┤ X ├┤ X ├┤ X ├┤ X ├─░───────░─\n",
       "     └───┘└───┘ ░       ░ └───┘└───┘└───┘└───┘ ░       ░ \n",
       "c: 4/════════════════════════════════════════════════════\n",
       "                                                         </pre>"
      ],
      "text/plain": [
       "     ┌───┐      ░ ┌───┐ ░                      ░ ┌───┐ ░ \n",
       "q_0: ┤ H ├──────░─┤ I ├─░───■──────────────────░─┤ I ├─░─\n",
       "     ├───┤      ░ ├───┤ ░   │                  ░ ├───┤ ░ \n",
       "q_1: ┤ H ├──────░─┤ X ├─░───┼────■─────────────░─┤ X ├─░─\n",
       "     ├───┤      ░ ├───┤ ░   │    │             ░ ├───┤ ░ \n",
       "q_2: ┤ H ├──────░─┤ I ├─░───┼────┼────■────────░─┤ I ├─░─\n",
       "     ├───┤      ░ ├───┤ ░   │    │    │        ░ ├───┤ ░ \n",
       "q_3: ┤ H ├──────░─┤ X ├─░───┼────┼────┼────■───░─┤ X ├─░─\n",
       "     ├───┤┌───┐ ░ └───┘ ░ ┌─┴─┐┌─┴─┐┌─┴─┐┌─┴─┐ ░ └───┘ ░ \n",
       "q_4: ┤ X ├┤ H ├─░───────░─┤ X ├┤ X ├┤ X ├┤ X ├─░───────░─\n",
       "     └───┘└───┘ ░       ░ └───┘└───┘└───┘└───┘ ░       ░ \n",
       "c: 4/════════════════════════════════════════════════════\n",
       "                                                         "
      ]
     },
     "execution_count": 22,
     "metadata": {},
     "output_type": "execute_result"
    }
   ],
   "source": [
    "# p389 (p410 PDF) \n",
    "\n",
    "# Set the closing bit string we selected earlier to evaluate\n",
    "qc.i(0)\n",
    "qc.x(1)\n",
    "qc.i(2)\n",
    "qc.x(3)\n",
    "\n",
    "qc.barrier()\n",
    "qc.draw()\n"
   ]
  },
  {
   "cell_type": "code",
   "execution_count": 23,
   "metadata": {},
   "outputs": [
    {
     "data": {
      "text/html": [
       "<pre style=\"word-wrap: normal;white-space: pre;background: #fff0;line-height: 1.1;font-family: &quot;Courier New&quot;,Courier,monospace\">     ┌───┐      ░ ┌───┐ ░                      ░ ┌───┐ ░ ┌───┐ ░ \n",
       "q_0: ┤ H ├──────░─┤ I ├─░───■──────────────────░─┤ I ├─░─┤ H ├─░─\n",
       "     ├───┤      ░ ├───┤ ░   │                  ░ ├───┤ ░ ├───┤ ░ \n",
       "q_1: ┤ H ├──────░─┤ X ├─░───┼────■─────────────░─┤ X ├─░─┤ H ├─░─\n",
       "     ├───┤      ░ ├───┤ ░   │    │             ░ ├───┤ ░ ├───┤ ░ \n",
       "q_2: ┤ H ├──────░─┤ I ├─░───┼────┼────■────────░─┤ I ├─░─┤ H ├─░─\n",
       "     ├───┤      ░ ├───┤ ░   │    │    │        ░ ├───┤ ░ ├───┤ ░ \n",
       "q_3: ┤ H ├──────░─┤ X ├─░───┼────┼────┼────■───░─┤ X ├─░─┤ H ├─░─\n",
       "     ├───┤┌───┐ ░ └───┘ ░ ┌─┴─┐┌─┴─┐┌─┴─┐┌─┴─┐ ░ └───┘ ░ └───┘ ░ \n",
       "q_4: ┤ X ├┤ H ├─░───────░─┤ X ├┤ X ├┤ X ├┤ X ├─░───────░───────░─\n",
       "     └───┘└───┘ ░       ░ └───┘└───┘└───┘└───┘ ░       ░       ░ \n",
       "c: 4/════════════════════════════════════════════════════════════\n",
       "                                                                 </pre>"
      ],
      "text/plain": [
       "     ┌───┐      ░ ┌───┐ ░                      ░ ┌───┐ ░ ┌───┐ ░ \n",
       "q_0: ┤ H ├──────░─┤ I ├─░───■──────────────────░─┤ I ├─░─┤ H ├─░─\n",
       "     ├───┤      ░ ├───┤ ░   │                  ░ ├───┤ ░ ├───┤ ░ \n",
       "q_1: ┤ H ├──────░─┤ X ├─░───┼────■─────────────░─┤ X ├─░─┤ H ├─░─\n",
       "     ├───┤      ░ ├───┤ ░   │    │             ░ ├───┤ ░ ├───┤ ░ \n",
       "q_2: ┤ H ├──────░─┤ I ├─░───┼────┼────■────────░─┤ I ├─░─┤ H ├─░─\n",
       "     ├───┤      ░ ├───┤ ░   │    │    │        ░ ├───┤ ░ ├───┤ ░ \n",
       "q_3: ┤ H ├──────░─┤ X ├─░───┼────┼────┼────■───░─┤ X ├─░─┤ H ├─░─\n",
       "     ├───┤┌───┐ ░ └───┘ ░ ┌─┴─┐┌─┴─┐┌─┴─┐┌─┴─┐ ░ └───┘ ░ └───┘ ░ \n",
       "q_4: ┤ X ├┤ H ├─░───────░─┤ X ├┤ X ├┤ X ├┤ X ├─░───────░───────░─\n",
       "     └───┘└───┘ ░       ░ └───┘└───┘└───┘└───┘ ░       ░       ░ \n",
       "c: 4/════════════════════════════════════════════════════════════\n",
       "                                                                 "
      ]
     },
     "execution_count": 23,
     "metadata": {},
     "output_type": "execute_result"
    }
   ],
   "source": [
    "# p390 (p411 PDF) \n",
    "\n",
    "# Add the Hadamard gates to complete wrapping the oracle\n",
    "for idx in range(4):\n",
    "    qc.h(idx)\n",
    "\n",
    "qc.barrier()\n",
    "qc.draw()\n"
   ]
  },
  {
   "cell_type": "code",
   "execution_count": 24,
   "metadata": {},
   "outputs": [
    {
     "data": {
      "text/html": [
       "<pre style=\"word-wrap: normal;white-space: pre;background: #fff0;line-height: 1.1;font-family: &quot;Courier New&quot;,Courier,monospace\">     ┌───┐      ░ ┌───┐ ░                      ░ ┌───┐ ░ ┌───┐ ░ ┌─┐         \n",
       "q_0: ┤ H ├──────░─┤ I ├─░───■──────────────────░─┤ I ├─░─┤ H ├─░─┤M├─────────\n",
       "     ├───┤      ░ ├───┤ ░   │                  ░ ├───┤ ░ ├───┤ ░ └╥┘┌─┐      \n",
       "q_1: ┤ H ├──────░─┤ X ├─░───┼────■─────────────░─┤ X ├─░─┤ H ├─░──╫─┤M├──────\n",
       "     ├───┤      ░ ├───┤ ░   │    │             ░ ├───┤ ░ ├───┤ ░  ║ └╥┘┌─┐   \n",
       "q_2: ┤ H ├──────░─┤ I ├─░───┼────┼────■────────░─┤ I ├─░─┤ H ├─░──╫──╫─┤M├───\n",
       "     ├───┤      ░ ├───┤ ░   │    │    │        ░ ├───┤ ░ ├───┤ ░  ║  ║ └╥┘┌─┐\n",
       "q_3: ┤ H ├──────░─┤ X ├─░───┼────┼────┼────■───░─┤ X ├─░─┤ H ├─░──╫──╫──╫─┤M├\n",
       "     ├───┤┌───┐ ░ └───┘ ░ ┌─┴─┐┌─┴─┐┌─┴─┐┌─┴─┐ ░ └───┘ ░ └───┘ ░  ║  ║  ║ └╥┘\n",
       "q_4: ┤ X ├┤ H ├─░───────░─┤ X ├┤ X ├┤ X ├┤ X ├─░───────░───────░──╫──╫──╫──╫─\n",
       "     └───┘└───┘ ░       ░ └───┘└───┘└───┘└───┘ ░       ░       ░  ║  ║  ║  ║ \n",
       "c: 4/═════════════════════════════════════════════════════════════╩══╩══╩══╩═\n",
       "                                                                  0  1  2  3 </pre>"
      ],
      "text/plain": [
       "     ┌───┐      ░ ┌───┐ ░                      ░ ┌───┐ ░ ┌───┐ ░ ┌─┐         \n",
       "q_0: ┤ H ├──────░─┤ I ├─░───■──────────────────░─┤ I ├─░─┤ H ├─░─┤M├─────────\n",
       "     ├───┤      ░ ├───┤ ░   │                  ░ ├───┤ ░ ├───┤ ░ └╥┘┌─┐      \n",
       "q_1: ┤ H ├──────░─┤ X ├─░───┼────■─────────────░─┤ X ├─░─┤ H ├─░──╫─┤M├──────\n",
       "     ├───┤      ░ ├───┤ ░   │    │             ░ ├───┤ ░ ├───┤ ░  ║ └╥┘┌─┐   \n",
       "q_2: ┤ H ├──────░─┤ I ├─░───┼────┼────■────────░─┤ I ├─░─┤ H ├─░──╫──╫─┤M├───\n",
       "     ├───┤      ░ ├───┤ ░   │    │    │        ░ ├───┤ ░ ├───┤ ░  ║  ║ └╥┘┌─┐\n",
       "q_3: ┤ H ├──────░─┤ X ├─░───┼────┼────┼────■───░─┤ X ├─░─┤ H ├─░──╫──╫──╫─┤M├\n",
       "     ├───┤┌───┐ ░ └───┘ ░ ┌─┴─┐┌─┴─┐┌─┴─┐┌─┴─┐ ░ └───┘ ░ └───┘ ░  ║  ║  ║ └╥┘\n",
       "q_4: ┤ X ├┤ H ├─░───────░─┤ X ├┤ X ├┤ X ├┤ X ├─░───────░───────░──╫──╫──╫──╫─\n",
       "     └───┘└───┘ ░       ░ └───┘└───┘└───┘└───┘ ░       ░       ░  ║  ║  ║  ║ \n",
       "c: 4/═════════════════════════════════════════════════════════════╩══╩══╩══╩═\n",
       "                                                                  0  1  2  3 "
      ]
     },
     "execution_count": 24,
     "metadata": {},
     "output_type": "execute_result"
    }
   ],
   "source": [
    "# p391 (p412 PDF) \n",
    "\n",
    "# Add measurements only to our inputs\n",
    "qc.measure(range(4),range(4))\n",
    "\n",
    "# Draw the circuit\n",
    "qc.draw()\n"
   ]
  },
  {
   "cell_type": "code",
   "execution_count": 25,
   "metadata": {},
   "outputs": [
    {
     "name": "stdout",
     "output_type": "stream",
     "text": [
      "{'1111': 1024}\n"
     ]
    },
    {
     "data": {
      "image/png": "[encoded data removed]",
      "text/plain": [
       "<Figure size 504x360 with 1 Axes>"
      ]
     },
     "execution_count": 25,
     "metadata": {},
     "output_type": "execute_result"
    },
    {
     "data": {
      "image/png": "[encoded data removed]",
      "text/plain": [
       "<Figure size 504x360 with 1 Axes>"
      ]
     },
     "metadata": {
      "needs_background": "light"
     },
     "output_type": "display_data"
    }
   ],
   "source": [
    "# p391 (p412 PDF) \n",
    "\n",
    "# Execute the circuit\n",
    "backend = Aer.get_backend('qasm_simulator')\n",
    "result = execute(qc, backend=backend, shots=1024).result()\n",
    "counts = result.get_counts(qc)\n",
    "\n",
    "# Print and plot results\n",
    "print(counts)\n",
    "plot_histogram(counts)\n"
   ]
  },
  {
   "cell_type": "code",
   "execution_count": 26,
   "metadata": {},
   "outputs": [
    {
     "data": {
      "application/vnd.jupyter.widget-view+json": {
       "model_id": "7dce2b970fb241dbbde3ebb9c2777b90",
       "version_major": 2,
       "version_minor": 0
      },
      "text/plain": [
       "Accordion(children=(VBox(layout=Layout(max_width='710px', min_width='710px')),), layout=Layout(max_height='500…"
      ]
     },
     "metadata": {},
     "output_type": "display_data"
    },
    {
     "data": {
      "application/javascript": "$('div.job_widget')\n        .detach()\n        .appendTo($('#header'))\n        .css({\n            'z-index': 999,\n             'position': 'fixed',\n            'box-shadow': '5px 5px 5px -3px black',\n            'opacity': 0.95,\n            'float': 'left,'\n        })\n        ",
      "text/plain": [
       "<IPython.core.display.Javascript object>"
      ]
     },
     "metadata": {},
     "output_type": "display_data"
    },
    {
     "data": {
      "text/plain": [
       "[<IBMQBackend('ibmq_lima') from IBMQ(hub='ibm-q', group='open', project='main')>,\n",
       " <IBMQBackend('ibmq_belem') from IBMQ(hub='ibm-q', group='open', project='main')>,\n",
       " <IBMQBackend('ibmq_quito') from IBMQ(hub='ibm-q', group='open', project='main')>,\n",
       " <IBMQBackend('ibmq_jakarta') from IBMQ(hub='ibm-q', group='open', project='main')>,\n",
       " <IBMQBackend('ibmq_manila') from IBMQ(hub='ibm-q', group='open', project='main')>,\n",
       " <IBMQBackend('ibm_lagos') from IBMQ(hub='ibm-q', group='open', project='main')>,\n",
       " <IBMQBackend('ibm_nairobi') from IBMQ(hub='ibm-q', group='open', project='main')>,\n",
       " <IBMQBackend('ibm_perth') from IBMQ(hub='ibm-q', group='open', project='main')>]"
      ]
     },
     "execution_count": 26,
     "metadata": {},
     "output_type": "execute_result"
    }
   ],
   "source": [
    "# p392 (p413 PDF) \n",
    "\n",
    "#Enable the job watcher widget\n",
    "%qiskit_job_watcher\n",
    "\n",
    "# Print all backends with at least 5 or more qubits\n",
    "provider.backends(filters=lambda x: x.configuration().n_qubits >= total_qubits and not x.configuration().simulator and x.status().operational==True)\n"
   ]
  },
  {
   "cell_type": "code",
   "execution_count": 27,
   "metadata": {},
   "outputs": [
    {
     "ename": "QiskitBackendNotFoundError",
     "evalue": "'No backend matches the criteria'",
     "output_type": "error",
     "traceback": [
      "\u001b[1;31m---------------------------------------------------------------------------\u001b[0m",
      "\u001b[1;31mQiskitBackendNotFoundError\u001b[0m                Traceback (most recent call last)",
      "\u001b[1;32m~\\AppData\\Local\\Temp\\ipykernel_14296\\2098451951.py\u001b[0m in \u001b[0;36m<module>\u001b[1;34m\u001b[0m\n\u001b[0;32m      1\u001b[0m \u001b[1;31m# Select any of the avialable backends above you have listed,\u001b[0m\u001b[1;33m\u001b[0m\u001b[1;33m\u001b[0m\u001b[1;33m\u001b[0m\u001b[0m\n\u001b[0;32m      2\u001b[0m \u001b[1;31m# In this case we will pick 'ibmq_ourense'\u001b[0m\u001b[1;33m\u001b[0m\u001b[1;33m\u001b[0m\u001b[1;33m\u001b[0m\u001b[0m\n\u001b[1;32m----> 3\u001b[1;33m \u001b[0mbackend\u001b[0m \u001b[1;33m=\u001b[0m \u001b[0mprovider\u001b[0m\u001b[1;33m.\u001b[0m\u001b[0mget_backend\u001b[0m\u001b[1;33m(\u001b[0m\u001b[1;34m'ibmq_ourense'\u001b[0m\u001b[1;33m)\u001b[0m\u001b[1;33m\u001b[0m\u001b[1;33m\u001b[0m\u001b[0m\n\u001b[0m\u001b[0;32m      4\u001b[0m \u001b[1;33m\u001b[0m\u001b[0m\n\u001b[0;32m      5\u001b[0m \u001b[1;31m# Execute the previous circuit on a quantum device\u001b[0m\u001b[1;33m\u001b[0m\u001b[1;33m\u001b[0m\u001b[1;33m\u001b[0m\u001b[0m\n",
      "\u001b[1;32mc:\\Users\\duyni\\Documents\\Learn-Quantum-Computing-with-Python-and-IBM-Quantum-Experience\\quantum_env\\lib\\site-packages\\qiskit\\providers\\baseprovider.py\u001b[0m in \u001b[0;36mget_backend\u001b[1;34m(self, name, **kwargs)\u001b[0m\n\u001b[0;32m     44\u001b[0m             \u001b[1;32mraise\u001b[0m \u001b[0mQiskitBackendNotFoundError\u001b[0m\u001b[1;33m(\u001b[0m\u001b[1;34m'More than one backend matches the criteria'\u001b[0m\u001b[1;33m)\u001b[0m\u001b[1;33m\u001b[0m\u001b[1;33m\u001b[0m\u001b[0m\n\u001b[0;32m     45\u001b[0m         \u001b[1;32mif\u001b[0m \u001b[1;32mnot\u001b[0m \u001b[0mbackends\u001b[0m\u001b[1;33m:\u001b[0m\u001b[1;33m\u001b[0m\u001b[1;33m\u001b[0m\u001b[0m\n\u001b[1;32m---> 46\u001b[1;33m             \u001b[1;32mraise\u001b[0m \u001b[0mQiskitBackendNotFoundError\u001b[0m\u001b[1;33m(\u001b[0m\u001b[1;34m'No backend matches the criteria'\u001b[0m\u001b[1;33m)\u001b[0m\u001b[1;33m\u001b[0m\u001b[1;33m\u001b[0m\u001b[0m\n\u001b[0m\u001b[0;32m     47\u001b[0m \u001b[1;33m\u001b[0m\u001b[0m\n\u001b[0;32m     48\u001b[0m         \u001b[1;32mreturn\u001b[0m \u001b[0mbackends\u001b[0m\u001b[1;33m[\u001b[0m\u001b[1;36m0\u001b[0m\u001b[1;33m]\u001b[0m\u001b[1;33m\u001b[0m\u001b[1;33m\u001b[0m\u001b[0m\n",
      "\u001b[1;31mQiskitBackendNotFoundError\u001b[0m: 'No backend matches the criteria'"
     ]
    }
   ],
   "source": [
    "# p393 (p414 PDF) \n",
    "\n",
    "# Select any of the avialable backends above you have listed, \n",
    "# In this case we will pick 'ibmq_ourense'\n",
    "backend = provider.get_backend('ibmq_ourense')\n",
    "\n",
    "# Execute the previous circuit on a quantum device\n",
    "result = execute(qc, backend=backend, shots=1024).result()\n",
    "counts = result.get_counts(qc)\n",
    "\n",
    "# Print and plot results\n",
    "print(counts)\n",
    "plot_histogram(counts)\n"
   ]
  },
  {
   "cell_type": "code",
   "execution_count": 28,
   "metadata": {},
   "outputs": [],
   "source": [
    "# p397 (p418 PDF) \n",
    "\n",
    "# Create your secret number\n",
    "shh = '1010'\n",
    "\n",
    "# Set the number of qubits to represent secret number and an ancilla qubit\n",
    "input_qubits = len(shh)\n",
    "ancilla_qubit = 1\n",
    "total_qubits = input_qubits + ancilla_qubit\n",
    "\n",
    "# Create the quantum circuit\n",
    "qc = QuantumCircuit(total_qubits, input_qubits)\n"
   ]
  },
  {
   "cell_type": "code",
   "execution_count": 29,
   "metadata": {},
   "outputs": [
    {
     "data": {
      "text/html": [
       "<pre style=\"word-wrap: normal;white-space: pre;background: #fff0;line-height: 1.1;font-family: &quot;Courier New&quot;,Courier,monospace\">     ┌───┐\n",
       "q_0: ┤ H ├\n",
       "     ├───┤\n",
       "q_1: ┤ H ├\n",
       "     ├───┤\n",
       "q_2: ┤ H ├\n",
       "     ├───┤\n",
       "q_3: ┤ H ├\n",
       "     └───┘\n",
       "q_4: ─────\n",
       "          \n",
       "c: 4/═════\n",
       "          </pre>"
      ],
      "text/plain": [
       "     ┌───┐\n",
       "q_0: ┤ H ├\n",
       "     ├───┤\n",
       "q_1: ┤ H ├\n",
       "     ├───┤\n",
       "q_2: ┤ H ├\n",
       "     ├───┤\n",
       "q_3: ┤ H ├\n",
       "     └───┘\n",
       "q_4: ─────\n",
       "          \n",
       "c: 4/═════\n",
       "          "
      ]
     },
     "execution_count": 29,
     "metadata": {},
     "output_type": "execute_result"
    }
   ],
   "source": [
    "# p397 (p418 PDF) \n",
    "\n",
    "# Add Hadamard gates to the input qubits\n",
    "for idx in range(input_qubits):\n",
    "    qc.h(idx)\n",
    "\n",
    "# Draw the input circuit\n",
    "qc.draw()\n"
   ]
  },
  {
   "cell_type": "code",
   "execution_count": 30,
   "metadata": {},
   "outputs": [
    {
     "data": {
      "text/html": [
       "<pre style=\"word-wrap: normal;white-space: pre;background: #fff0;line-height: 1.1;font-family: &quot;Courier New&quot;,Courier,monospace\">     ┌───┐      ░ \n",
       "q_0: ┤ H ├──────░─\n",
       "     ├───┤      ░ \n",
       "q_1: ┤ H ├──────░─\n",
       "     ├───┤      ░ \n",
       "q_2: ┤ H ├──────░─\n",
       "     ├───┤      ░ \n",
       "q_3: ┤ H ├──────░─\n",
       "     ├───┤┌───┐ ░ \n",
       "q_4: ┤ X ├┤ H ├─░─\n",
       "     └───┘└───┘ ░ \n",
       "c: 4/═════════════\n",
       "                  </pre>"
      ],
      "text/plain": [
       "     ┌───┐      ░ \n",
       "q_0: ┤ H ├──────░─\n",
       "     ├───┤      ░ \n",
       "q_1: ┤ H ├──────░─\n",
       "     ├───┤      ░ \n",
       "q_2: ┤ H ├──────░─\n",
       "     ├───┤      ░ \n",
       "q_3: ┤ H ├──────░─\n",
       "     ├───┤┌───┐ ░ \n",
       "q_4: ┤ X ├┤ H ├─░─\n",
       "     └───┘└───┘ ░ \n",
       "c: 4/═════════════\n",
       "                  "
      ]
     },
     "execution_count": 30,
     "metadata": {},
     "output_type": "execute_result"
    }
   ],
   "source": [
    "# p398 (p419 PDF) \n",
    "\n",
    "# Prepare the ancilla qubit of the circuit\n",
    "qc.x(total_qubits-1)\n",
    "qc.h(total_qubits-1)\n",
    "\n",
    "qc.barrier()\n",
    "  \n",
    "# Draw the prepared circuit\n",
    "qc.draw()\n"
   ]
  },
  {
   "cell_type": "code",
   "execution_count": 31,
   "metadata": {},
   "outputs": [
    {
     "name": "stdout",
     "output_type": "stream",
     "text": [
      "Secret before reverse:  1010\n",
      "Secret after reverse:  0101\n"
     ]
    }
   ],
   "source": [
    "# p399 (p420 PDF) \n",
    "\n",
    "# Before creating the oracle, we need to adjust the qubits \n",
    "# Since they are ordered from left to right, we will reverse the secret number\n",
    "\n",
    "# Current secret value\n",
    "print('Secret before reverse: ', shh)\n",
    "\n",
    "# Reverse order\n",
    "shh = shh[::-1]\n",
    "print('Secret after reverse: ', shh)\n"
   ]
  },
  {
   "cell_type": "code",
   "execution_count": 32,
   "metadata": {},
   "outputs": [
    {
     "data": {
      "text/html": [
       "<pre style=\"word-wrap: normal;white-space: pre;background: #fff0;line-height: 1.1;font-family: &quot;Courier New&quot;,Courier,monospace\">     ┌───┐      ░            ░ \n",
       "q_0: ┤ H ├──────░────────────░─\n",
       "     ├───┤      ░            ░ \n",
       "q_1: ┤ H ├──────░───■────────░─\n",
       "     ├───┤      ░   │        ░ \n",
       "q_2: ┤ H ├──────░───┼────────░─\n",
       "     ├───┤      ░   │        ░ \n",
       "q_3: ┤ H ├──────░───┼────■───░─\n",
       "     ├───┤┌───┐ ░ ┌─┴─┐┌─┴─┐ ░ \n",
       "q_4: ┤ X ├┤ H ├─░─┤ X ├┤ X ├─░─\n",
       "     └───┘└───┘ ░ └───┘└───┘ ░ \n",
       "c: 4/══════════════════════════\n",
       "                               </pre>"
      ],
      "text/plain": [
       "     ┌───┐      ░            ░ \n",
       "q_0: ┤ H ├──────░────────────░─\n",
       "     ├───┤      ░            ░ \n",
       "q_1: ┤ H ├──────░───■────────░─\n",
       "     ├───┤      ░   │        ░ \n",
       "q_2: ┤ H ├──────░───┼────────░─\n",
       "     ├───┤      ░   │        ░ \n",
       "q_3: ┤ H ├──────░───┼────■───░─\n",
       "     ├───┤┌───┐ ░ ┌─┴─┐┌─┴─┐ ░ \n",
       "q_4: ┤ X ├┤ H ├─░─┤ X ├┤ X ├─░─\n",
       "     └───┘└───┘ ░ └───┘└───┘ ░ \n",
       "c: 4/══════════════════════════\n",
       "                               "
      ]
     },
     "execution_count": 32,
     "metadata": {},
     "output_type": "execute_result"
    }
   ],
   "source": [
    "# p400 (p421 PDF) \n",
    "\n",
    "# Now that we have the right order, let's create the oracle\n",
    "# by applying a CNOT, where the qubits set to '1' are the source\n",
    "# and the targe would be the ancilla qubit\n",
    "for idx in range(input_qubits):\n",
    "    if shh[idx] == '1':\n",
    "        qc.cx(idx, input_qubits)\n",
    "\n",
    "qc.barrier()\n",
    "qc.draw()\n"
   ]
  },
  {
   "cell_type": "code",
   "execution_count": 33,
   "metadata": {},
   "outputs": [
    {
     "data": {
      "text/html": [
       "<pre style=\"word-wrap: normal;white-space: pre;background: #fff0;line-height: 1.1;font-family: &quot;Courier New&quot;,Courier,monospace\">     ┌───┐      ░            ░ ┌───┐ ░ ┌─┐         \n",
       "q_0: ┤ H ├──────░────────────░─┤ H ├─░─┤M├─────────\n",
       "     ├───┤      ░            ░ ├───┤ ░ └╥┘┌─┐      \n",
       "q_1: ┤ H ├──────░───■────────░─┤ H ├─░──╫─┤M├──────\n",
       "     ├───┤      ░   │        ░ ├───┤ ░  ║ └╥┘┌─┐   \n",
       "q_2: ┤ H ├──────░───┼────────░─┤ H ├─░──╫──╫─┤M├───\n",
       "     ├───┤      ░   │        ░ ├───┤ ░  ║  ║ └╥┘┌─┐\n",
       "q_3: ┤ H ├──────░───┼────■───░─┤ H ├─░──╫──╫──╫─┤M├\n",
       "     ├───┤┌───┐ ░ ┌─┴─┐┌─┴─┐ ░ └───┘ ░  ║  ║  ║ └╥┘\n",
       "q_4: ┤ X ├┤ H ├─░─┤ X ├┤ X ├─░───────░──╫──╫──╫──╫─\n",
       "     └───┘└───┘ ░ └───┘└───┘ ░       ░  ║  ║  ║  ║ \n",
       "c: 4/═══════════════════════════════════╩══╩══╩══╩═\n",
       "                                        0  1  2  3 </pre>"
      ],
      "text/plain": [
       "     ┌───┐      ░            ░ ┌───┐ ░ ┌─┐         \n",
       "q_0: ┤ H ├──────░────────────░─┤ H ├─░─┤M├─────────\n",
       "     ├───┤      ░            ░ ├───┤ ░ └╥┘┌─┐      \n",
       "q_1: ┤ H ├──────░───■────────░─┤ H ├─░──╫─┤M├──────\n",
       "     ├───┤      ░   │        ░ ├───┤ ░  ║ └╥┘┌─┐   \n",
       "q_2: ┤ H ├──────░───┼────────░─┤ H ├─░──╫──╫─┤M├───\n",
       "     ├───┤      ░   │        ░ ├───┤ ░  ║  ║ └╥┘┌─┐\n",
       "q_3: ┤ H ├──────░───┼────■───░─┤ H ├─░──╫──╫──╫─┤M├\n",
       "     ├───┤┌───┐ ░ ┌─┴─┐┌─┴─┐ ░ └───┘ ░  ║  ║  ║ └╥┘\n",
       "q_4: ┤ X ├┤ H ├─░─┤ X ├┤ X ├─░───────░──╫──╫──╫──╫─\n",
       "     └───┘└───┘ ░ └───┘└───┘ ░       ░  ║  ║  ║  ║ \n",
       "c: 4/═══════════════════════════════════╩══╩══╩══╩═\n",
       "                                        0  1  2  3 "
      ]
     },
     "execution_count": 33,
     "metadata": {},
     "output_type": "execute_result"
    }
   ],
   "source": [
    "# p401 (p422 PDF) \n",
    "\n",
    "\n",
    "# Now let's close up our circuit with Hadamards applied to the input qubits\n",
    "for idx in range(input_qubits):\n",
    "    qc.h(idx)\n",
    "\n",
    "qc.barrier()\n",
    "\n",
    "# Finally, let's add measurements to our input qubits\n",
    "qc.measure(range(input_qubits), range(input_qubits))\n",
    "\n",
    "qc.draw()\n"
   ]
  },
  {
   "cell_type": "code",
   "execution_count": 34,
   "metadata": {},
   "outputs": [
    {
     "data": {
      "image/png": "[encoded data removed]",
      "text/plain": [
       "<Figure size 504x360 with 1 Axes>"
      ]
     },
     "execution_count": 34,
     "metadata": {},
     "output_type": "execute_result"
    },
    {
     "data": {
      "image/png": "[encoded data removed]",
      "text/plain": [
       "<Figure size 504x360 with 1 Axes>"
      ]
     },
     "metadata": {
      "needs_background": "light"
     },
     "output_type": "display_data"
    }
   ],
   "source": [
    "# p402 (p423 PDF) \n",
    "\n",
    "# Execute the circuit and plot the results\n",
    "backend = Aer.get_backend('qasm_simulator')\n",
    "result = execute(qc, backend, shots=1024).result()\n",
    "counts = result.get_counts(qc)\n",
    "plot_histogram(counts)\n"
   ]
  },
  {
   "cell_type": "code",
   "execution_count": 35,
   "metadata": {},
   "outputs": [
    {
     "data": {
      "application/vnd.jupyter.widget-view+json": {
       "model_id": "03bfa3c01c0b4eefbf242b1425f03aab",
       "version_major": 2,
       "version_minor": 0
      },
      "text/plain": [
       "Accordion(children=(VBox(layout=Layout(max_width='710px', min_width='710px')),), layout=Layout(max_height='500…"
      ]
     },
     "metadata": {},
     "output_type": "display_data"
    },
    {
     "data": {
      "application/javascript": "$('div.job_widget')\n        .detach()\n        .appendTo($('#header'))\n        .css({\n            'z-index': 999,\n             'position': 'fixed',\n            'box-shadow': '5px 5px 5px -3px black',\n            'opacity': 0.95,\n            'float': 'left,'\n        })\n        ",
      "text/plain": [
       "<IPython.core.display.Javascript object>"
      ]
     },
     "metadata": {},
     "output_type": "display_data"
    },
    {
     "data": {
      "text/plain": [
       "[<IBMQBackend('ibmq_lima') from IBMQ(hub='ibm-q', group='open', project='main')>,\n",
       " <IBMQBackend('ibmq_belem') from IBMQ(hub='ibm-q', group='open', project='main')>,\n",
       " <IBMQBackend('ibmq_quito') from IBMQ(hub='ibm-q', group='open', project='main')>,\n",
       " <IBMQBackend('ibmq_jakarta') from IBMQ(hub='ibm-q', group='open', project='main')>,\n",
       " <IBMQBackend('ibmq_manila') from IBMQ(hub='ibm-q', group='open', project='main')>,\n",
       " <IBMQBackend('ibm_lagos') from IBMQ(hub='ibm-q', group='open', project='main')>,\n",
       " <IBMQBackend('ibm_nairobi') from IBMQ(hub='ibm-q', group='open', project='main')>,\n",
       " <IBMQBackend('ibm_perth') from IBMQ(hub='ibm-q', group='open', project='main')>]"
      ]
     },
     "execution_count": 35,
     "metadata": {},
     "output_type": "execute_result"
    }
   ],
   "source": [
    "# p403 (p424 PDF) \n",
    "\n",
    "#Enable the job watcher widget\n",
    "%qiskit_job_watcher\n",
    "\n",
    "# Print all backends with at least 5 or more qubits\n",
    "provider.backends(filters=lambda x: x.configuration().n_qubits >= 5 and not x.configuration().simulator and x.status().operational==True)\n"
   ]
  },
  {
   "cell_type": "code",
   "execution_count": 36,
   "metadata": {},
   "outputs": [
    {
     "ename": "QiskitBackendNotFoundError",
     "evalue": "'No backend matches the criteria'",
     "output_type": "error",
     "traceback": [
      "\u001b[1;31m---------------------------------------------------------------------------\u001b[0m",
      "\u001b[1;31mQiskitBackendNotFoundError\u001b[0m                Traceback (most recent call last)",
      "\u001b[1;32m~\\AppData\\Local\\Temp\\ipykernel_14296\\1617390307.py\u001b[0m in \u001b[0;36m<module>\u001b[1;34m\u001b[0m\n\u001b[0;32m      1\u001b[0m \u001b[1;31m# Choose whichever backend you wish from the list,\u001b[0m\u001b[1;33m\u001b[0m\u001b[1;33m\u001b[0m\u001b[1;33m\u001b[0m\u001b[0m\n\u001b[0;32m      2\u001b[0m \u001b[1;31m# For this example, we will use 'ibmq_ourense'\u001b[0m\u001b[1;33m\u001b[0m\u001b[1;33m\u001b[0m\u001b[1;33m\u001b[0m\u001b[0m\n\u001b[1;32m----> 3\u001b[1;33m \u001b[0mbackend\u001b[0m \u001b[1;33m=\u001b[0m \u001b[0mprovider\u001b[0m\u001b[1;33m.\u001b[0m\u001b[0mget_backend\u001b[0m\u001b[1;33m(\u001b[0m\u001b[1;34m'ibmq_ourense'\u001b[0m\u001b[1;33m)\u001b[0m\u001b[1;33m\u001b[0m\u001b[1;33m\u001b[0m\u001b[0m\n\u001b[0m\u001b[0;32m      4\u001b[0m \u001b[1;33m\u001b[0m\u001b[0m\n\u001b[0;32m      5\u001b[0m \u001b[1;31m# Execute the previous circuit on a quantum device\u001b[0m\u001b[1;33m\u001b[0m\u001b[1;33m\u001b[0m\u001b[1;33m\u001b[0m\u001b[0m\n",
      "\u001b[1;32mc:\\Users\\duyni\\Documents\\Learn-Quantum-Computing-with-Python-and-IBM-Quantum-Experience\\quantum_env\\lib\\site-packages\\qiskit\\providers\\baseprovider.py\u001b[0m in \u001b[0;36mget_backend\u001b[1;34m(self, name, **kwargs)\u001b[0m\n\u001b[0;32m     44\u001b[0m             \u001b[1;32mraise\u001b[0m \u001b[0mQiskitBackendNotFoundError\u001b[0m\u001b[1;33m(\u001b[0m\u001b[1;34m'More than one backend matches the criteria'\u001b[0m\u001b[1;33m)\u001b[0m\u001b[1;33m\u001b[0m\u001b[1;33m\u001b[0m\u001b[0m\n\u001b[0;32m     45\u001b[0m         \u001b[1;32mif\u001b[0m \u001b[1;32mnot\u001b[0m \u001b[0mbackends\u001b[0m\u001b[1;33m:\u001b[0m\u001b[1;33m\u001b[0m\u001b[1;33m\u001b[0m\u001b[0m\n\u001b[1;32m---> 46\u001b[1;33m             \u001b[1;32mraise\u001b[0m \u001b[0mQiskitBackendNotFoundError\u001b[0m\u001b[1;33m(\u001b[0m\u001b[1;34m'No backend matches the criteria'\u001b[0m\u001b[1;33m)\u001b[0m\u001b[1;33m\u001b[0m\u001b[1;33m\u001b[0m\u001b[0m\n\u001b[0m\u001b[0;32m     47\u001b[0m \u001b[1;33m\u001b[0m\u001b[0m\n\u001b[0;32m     48\u001b[0m         \u001b[1;32mreturn\u001b[0m \u001b[0mbackends\u001b[0m\u001b[1;33m[\u001b[0m\u001b[1;36m0\u001b[0m\u001b[1;33m]\u001b[0m\u001b[1;33m\u001b[0m\u001b[1;33m\u001b[0m\u001b[0m\n",
      "\u001b[1;31mQiskitBackendNotFoundError\u001b[0m: 'No backend matches the criteria'"
     ]
    }
   ],
   "source": [
    "# p404 (p425 PDF) \n",
    "\n",
    "# Choose whichever backend you wish from the list, \n",
    "# For this example, we will use 'ibmq_ourense'\n",
    "backend = provider.get_backend('ibmq_ourense')\n",
    "\n",
    "# Execute the previous circuit on a quantum device\n",
    "result = execute(qc, backend=backend, shots=1024).result()\n",
    "counts = result.get_counts(qc)\n",
    "\n",
    "# Print and plot results\n",
    "print(counts)\n",
    "plot_histogram(counts)\n"
   ]
  },
  {
   "cell_type": "code",
   "execution_count": null,
   "metadata": {},
   "outputs": [
    {
     "data": {
      "text/html": [
       "<h3>Version Information</h3><table><tr><th>Qiskit Software</th><th>Version</th></tr><tr><td>Qiskit</td><td>0.20.1</td></tr><tr><td>Terra</td><td>0.15.2</td></tr><tr><td>Aer</td><td>0.6.1</td></tr><tr><td>Ignis</td><td>0.4.0</td></tr><tr><td>Aqua</td><td>0.7.5</td></tr><tr><td>IBM Q Provider</td><td>0.8.0</td></tr><tr><th>System information</th></tr><tr><td>Python</td><td>3.7.8 | packaged by conda-forge | (default, Jul 31 2020, 02:25:08) \n",
       "[GCC 7.5.0]</td></tr><tr><td>OS</td><td>Linux</td></tr><tr><td>CPUs</td><td>8</td></tr><tr><td>Memory (Gb)</td><td>31.40900421142578</td></tr><tr><td colspan='2'>Thu Sep 10 21:48:03 2020 UTC</td></tr></table>"
      ],
      "text/plain": [
       "<IPython.core.display.HTML object>"
      ]
     },
     "metadata": {},
     "output_type": "display_data"
    }
   ],
   "source": [
    "import qiskit.tools.jupyter\n",
    "%qiskit_version_table"
   ]
  },
  {
   "cell_type": "code",
   "execution_count": null,
   "metadata": {},
   "outputs": [],
   "source": []
  }
 ],
 "metadata": {
  "kernelspec": {
   "display_name": "Python 3",
   "language": "python",
   "name": "python3"
  },
  "language_info": {
   "codemirror_mode": {
    "name": "ipython",
    "version": 3
   },
   "file_extension": ".py",
   "mimetype": "text/x-python",
   "name": "python",
   "nbconvert_exporter": "python",
   "pygments_lexer": "ipython3",
   "version": "3.7.8"
  }
 },
 "nbformat": 4,
 "nbformat_minor": 4
}
